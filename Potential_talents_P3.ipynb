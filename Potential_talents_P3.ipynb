{
  "cells": [
    {
      "cell_type": "markdown",
      "metadata": {
        "id": "view-in-github",
        "colab_type": "text"
      },
      "source": [
        "<a href=\"https://colab.research.google.com/github/alyhussein86/UuDPKFJtzKKQUHG6/blob/main/Potential_talents_P3.ipynb\" target=\"_parent\"><img src=\"https://colab.research.google.com/assets/colab-badge.svg\" alt=\"Open In Colab\"/></a>"
      ]
    },
    {
      "cell_type": "markdown",
      "metadata": {
        "id": "37puETfgRzzg"
      },
      "source": [
        "# Data Preprocessing Tools"
      ]
    },
    {
      "cell_type": "code",
      "source": [
        "pip install transformers"
      ],
      "metadata": {
        "colab": {
          "base_uri": "https://localhost:8080/"
        },
        "id": "BgZGDrBLQt8I",
        "outputId": "36fe891e-0d45-49ba-ef3e-29811ceae2f9"
      },
      "execution_count": 1,
      "outputs": [
        {
          "output_type": "stream",
          "name": "stdout",
          "text": [
            "Requirement already satisfied: transformers in /usr/local/lib/python3.10/dist-packages (4.30.2)\n",
            "Requirement already satisfied: filelock in /usr/local/lib/python3.10/dist-packages (from transformers) (3.12.2)\n",
            "Requirement already satisfied: huggingface-hub<1.0,>=0.14.1 in /usr/local/lib/python3.10/dist-packages (from transformers) (0.15.1)\n",
            "Requirement already satisfied: numpy>=1.17 in /usr/local/lib/python3.10/dist-packages (from transformers) (1.22.4)\n",
            "Requirement already satisfied: packaging>=20.0 in /usr/local/lib/python3.10/dist-packages (from transformers) (23.1)\n",
            "Requirement already satisfied: pyyaml>=5.1 in /usr/local/lib/python3.10/dist-packages (from transformers) (6.0)\n",
            "Requirement already satisfied: regex!=2019.12.17 in /usr/local/lib/python3.10/dist-packages (from transformers) (2022.10.31)\n",
            "Requirement already satisfied: requests in /usr/local/lib/python3.10/dist-packages (from transformers) (2.27.1)\n",
            "Requirement already satisfied: tokenizers!=0.11.3,<0.14,>=0.11.1 in /usr/local/lib/python3.10/dist-packages (from transformers) (0.13.3)\n",
            "Requirement already satisfied: safetensors>=0.3.1 in /usr/local/lib/python3.10/dist-packages (from transformers) (0.3.1)\n",
            "Requirement already satisfied: tqdm>=4.27 in /usr/local/lib/python3.10/dist-packages (from transformers) (4.65.0)\n",
            "Requirement already satisfied: fsspec in /usr/local/lib/python3.10/dist-packages (from huggingface-hub<1.0,>=0.14.1->transformers) (2023.6.0)\n",
            "Requirement already satisfied: typing-extensions>=3.7.4.3 in /usr/local/lib/python3.10/dist-packages (from huggingface-hub<1.0,>=0.14.1->transformers) (4.6.3)\n",
            "Requirement already satisfied: urllib3<1.27,>=1.21.1 in /usr/local/lib/python3.10/dist-packages (from requests->transformers) (1.26.16)\n",
            "Requirement already satisfied: certifi>=2017.4.17 in /usr/local/lib/python3.10/dist-packages (from requests->transformers) (2023.5.7)\n",
            "Requirement already satisfied: charset-normalizer~=2.0.0 in /usr/local/lib/python3.10/dist-packages (from requests->transformers) (2.0.12)\n",
            "Requirement already satisfied: idna<4,>=2.5 in /usr/local/lib/python3.10/dist-packages (from requests->transformers) (3.4)\n"
          ]
        }
      ]
    },
    {
      "cell_type": "code",
      "source": [
        "pip install gensim"
      ],
      "metadata": {
        "colab": {
          "base_uri": "https://localhost:8080/"
        },
        "id": "qK-ckgiESLc6",
        "outputId": "f5d194c0-f19b-444f-9cfd-717e2cbc4db3"
      },
      "execution_count": 2,
      "outputs": [
        {
          "output_type": "stream",
          "name": "stdout",
          "text": [
            "Requirement already satisfied: gensim in /usr/local/lib/python3.10/dist-packages (4.3.1)\n",
            "Requirement already satisfied: numpy>=1.18.5 in /usr/local/lib/python3.10/dist-packages (from gensim) (1.22.4)\n",
            "Requirement already satisfied: scipy>=1.7.0 in /usr/local/lib/python3.10/dist-packages (from gensim) (1.10.1)\n",
            "Requirement already satisfied: smart-open>=1.8.1 in /usr/local/lib/python3.10/dist-packages (from gensim) (6.3.0)\n"
          ]
        }
      ]
    },
    {
      "cell_type": "code",
      "source": [
        "pip install sentence_transformers"
      ],
      "metadata": {
        "colab": {
          "base_uri": "https://localhost:8080/"
        },
        "id": "8ZHzsyuXShiL",
        "outputId": "35f63690-406f-4df2-a22b-445eb9fff6d1"
      },
      "execution_count": 3,
      "outputs": [
        {
          "output_type": "stream",
          "name": "stdout",
          "text": [
            "Requirement already satisfied: sentence_transformers in /usr/local/lib/python3.10/dist-packages (2.2.2)\n",
            "Requirement already satisfied: transformers<5.0.0,>=4.6.0 in /usr/local/lib/python3.10/dist-packages (from sentence_transformers) (4.30.2)\n",
            "Requirement already satisfied: tqdm in /usr/local/lib/python3.10/dist-packages (from sentence_transformers) (4.65.0)\n",
            "Requirement already satisfied: torch>=1.6.0 in /usr/local/lib/python3.10/dist-packages (from sentence_transformers) (2.0.1+cu118)\n",
            "Requirement already satisfied: torchvision in /usr/local/lib/python3.10/dist-packages (from sentence_transformers) (0.15.2+cu118)\n",
            "Requirement already satisfied: numpy in /usr/local/lib/python3.10/dist-packages (from sentence_transformers) (1.22.4)\n",
            "Requirement already satisfied: scikit-learn in /usr/local/lib/python3.10/dist-packages (from sentence_transformers) (1.2.2)\n",
            "Requirement already satisfied: scipy in /usr/local/lib/python3.10/dist-packages (from sentence_transformers) (1.10.1)\n",
            "Requirement already satisfied: nltk in /usr/local/lib/python3.10/dist-packages (from sentence_transformers) (3.8.1)\n",
            "Requirement already satisfied: sentencepiece in /usr/local/lib/python3.10/dist-packages (from sentence_transformers) (0.1.99)\n",
            "Requirement already satisfied: huggingface-hub>=0.4.0 in /usr/local/lib/python3.10/dist-packages (from sentence_transformers) (0.15.1)\n",
            "Requirement already satisfied: filelock in /usr/local/lib/python3.10/dist-packages (from huggingface-hub>=0.4.0->sentence_transformers) (3.12.2)\n",
            "Requirement already satisfied: fsspec in /usr/local/lib/python3.10/dist-packages (from huggingface-hub>=0.4.0->sentence_transformers) (2023.6.0)\n",
            "Requirement already satisfied: requests in /usr/local/lib/python3.10/dist-packages (from huggingface-hub>=0.4.0->sentence_transformers) (2.27.1)\n",
            "Requirement already satisfied: pyyaml>=5.1 in /usr/local/lib/python3.10/dist-packages (from huggingface-hub>=0.4.0->sentence_transformers) (6.0)\n",
            "Requirement already satisfied: typing-extensions>=3.7.4.3 in /usr/local/lib/python3.10/dist-packages (from huggingface-hub>=0.4.0->sentence_transformers) (4.6.3)\n",
            "Requirement already satisfied: packaging>=20.9 in /usr/local/lib/python3.10/dist-packages (from huggingface-hub>=0.4.0->sentence_transformers) (23.1)\n",
            "Requirement already satisfied: sympy in /usr/local/lib/python3.10/dist-packages (from torch>=1.6.0->sentence_transformers) (1.11.1)\n",
            "Requirement already satisfied: networkx in /usr/local/lib/python3.10/dist-packages (from torch>=1.6.0->sentence_transformers) (3.1)\n",
            "Requirement already satisfied: jinja2 in /usr/local/lib/python3.10/dist-packages (from torch>=1.6.0->sentence_transformers) (3.1.2)\n",
            "Requirement already satisfied: triton==2.0.0 in /usr/local/lib/python3.10/dist-packages (from torch>=1.6.0->sentence_transformers) (2.0.0)\n",
            "Requirement already satisfied: cmake in /usr/local/lib/python3.10/dist-packages (from triton==2.0.0->torch>=1.6.0->sentence_transformers) (3.25.2)\n",
            "Requirement already satisfied: lit in /usr/local/lib/python3.10/dist-packages (from triton==2.0.0->torch>=1.6.0->sentence_transformers) (16.0.6)\n",
            "Requirement already satisfied: regex!=2019.12.17 in /usr/local/lib/python3.10/dist-packages (from transformers<5.0.0,>=4.6.0->sentence_transformers) (2022.10.31)\n",
            "Requirement already satisfied: tokenizers!=0.11.3,<0.14,>=0.11.1 in /usr/local/lib/python3.10/dist-packages (from transformers<5.0.0,>=4.6.0->sentence_transformers) (0.13.3)\n",
            "Requirement already satisfied: safetensors>=0.3.1 in /usr/local/lib/python3.10/dist-packages (from transformers<5.0.0,>=4.6.0->sentence_transformers) (0.3.1)\n",
            "Requirement already satisfied: click in /usr/local/lib/python3.10/dist-packages (from nltk->sentence_transformers) (8.1.3)\n",
            "Requirement already satisfied: joblib in /usr/local/lib/python3.10/dist-packages (from nltk->sentence_transformers) (1.2.0)\n",
            "Requirement already satisfied: threadpoolctl>=2.0.0 in /usr/local/lib/python3.10/dist-packages (from scikit-learn->sentence_transformers) (3.1.0)\n",
            "Requirement already satisfied: pillow!=8.3.*,>=5.3.0 in /usr/local/lib/python3.10/dist-packages (from torchvision->sentence_transformers) (8.4.0)\n",
            "Requirement already satisfied: MarkupSafe>=2.0 in /usr/local/lib/python3.10/dist-packages (from jinja2->torch>=1.6.0->sentence_transformers) (2.1.3)\n",
            "Requirement already satisfied: urllib3<1.27,>=1.21.1 in /usr/local/lib/python3.10/dist-packages (from requests->huggingface-hub>=0.4.0->sentence_transformers) (1.26.16)\n",
            "Requirement already satisfied: certifi>=2017.4.17 in /usr/local/lib/python3.10/dist-packages (from requests->huggingface-hub>=0.4.0->sentence_transformers) (2023.5.7)\n",
            "Requirement already satisfied: charset-normalizer~=2.0.0 in /usr/local/lib/python3.10/dist-packages (from requests->huggingface-hub>=0.4.0->sentence_transformers) (2.0.12)\n",
            "Requirement already satisfied: idna<4,>=2.5 in /usr/local/lib/python3.10/dist-packages (from requests->huggingface-hub>=0.4.0->sentence_transformers) (3.4)\n",
            "Requirement already satisfied: mpmath>=0.19 in /usr/local/lib/python3.10/dist-packages (from sympy->torch>=1.6.0->sentence_transformers) (1.3.0)\n"
          ]
        }
      ]
    },
    {
      "cell_type": "markdown",
      "metadata": {
        "id": "EoRP98MpR-qj"
      },
      "source": [
        "## Importing the libraries"
      ]
    },
    {
      "cell_type": "code",
      "execution_count": 4,
      "metadata": {
        "id": "N-qiINBQSK2g"
      },
      "outputs": [],
      "source": [
        "import numpy as np\n",
        "import matplotlib.pyplot as plt\n",
        "import pandas as pd\n",
        "import seaborn as sns\n",
        "from sklearn.impute import SimpleImputer\n",
        "# from sklearn.decomposition import PCA\n",
        "from transformers import BertTokenizer, BertModel, AutoTokenizer, AutoModel\n",
        "import torch\n",
        "from sklearn.model_selection import train_test_split\n",
        "from sklearn.preprocessing import MinMaxScaler\n",
        "from sklearn.metrics import classification_report\n",
        "# import tensorflow as tf\n",
        "# from tensorflow.keras.preprocessing.text import Tokenizer\n",
        "# from tensorflow.keras.preprocessing.sequence import pad_sequences\n",
        "import gensim\n",
        "from gensim.models import Word2Vec\n",
        "from gensim.utils import simple_preprocess\n",
        "from gensim.models.phrases import Phrases, Phraser\n",
        "from sentence_transformers import SentenceTransformer\n",
        "from sklearn.linear_model import LinearRegression\n",
        "from sklearn.metrics.pairwise import cosine_similarity\n",
        "import lightgbm as lgb"
      ]
    },
    {
      "cell_type": "markdown",
      "metadata": {
        "id": "RopL7tUZSQkT"
      },
      "source": [
        "## Importing the dataset"
      ]
    },
    {
      "cell_type": "code",
      "execution_count": 5,
      "metadata": {
        "id": "WwEPNDWySTKm"
      },
      "outputs": [],
      "source": [
        "dataset = pd.read_csv('potential-talents - Aspiring human resources - seeking human resources.csv')\n",
        "X = dataset.iloc[:, :-1]"
      ]
    },
    {
      "cell_type": "code",
      "execution_count": 6,
      "metadata": {
        "colab": {
          "base_uri": "https://localhost:8080/"
        },
        "id": "hCsz2yCebe1R",
        "outputId": "f0e869b7-6c22-4ff3-a8fd-92fb7ac6d7f9"
      },
      "outputs": [
        {
          "output_type": "stream",
          "name": "stdout",
          "text": [
            "(104, 4)\n",
            "id             int64\n",
            "job_title     object\n",
            "location      object\n",
            "connection    object\n",
            "dtype: object\n"
          ]
        }
      ],
      "source": [
        "print(X.shape)\n",
        "print(X.dtypes)"
      ]
    },
    {
      "cell_type": "markdown",
      "metadata": {
        "id": "UkcPTo_EP08M"
      },
      "source": [
        "## Histograming"
      ]
    },
    {
      "cell_type": "code",
      "execution_count": 7,
      "metadata": {
        "colab": {
          "base_uri": "https://localhost:8080/",
          "height": 469
        },
        "id": "ktGbplVqP08M",
        "outputId": "fe285e39-a2aa-4e22-8fd9-1b385fddb8c5"
      },
      "outputs": [
        {
          "output_type": "execute_result",
          "data": {
            "text/plain": [
              "<Axes: title={'center': 'Connections'}, ylabel='Frequency'>"
            ]
          },
          "metadata": {},
          "execution_count": 7
        },
        {
          "output_type": "display_data",
          "data": {
            "text/plain": [
              "<Figure size 640x480 with 1 Axes>"
            ],
            "image/png": "[encoded data removed]"
          },
          "metadata": {}
        }
      ],
      "source": [
        "X['connection'].value_counts().plot(kind='hist',color=\"orange\", title= 'Connections')"
      ]
    },
    {
      "cell_type": "code",
      "execution_count": 8,
      "metadata": {
        "colab": {
          "base_uri": "https://localhost:8080/",
          "height": 469
        },
        "id": "ErrWyMhEP08N",
        "outputId": "4236cc24-6352-4de0-cb5e-847d7a005b5d"
      },
      "outputs": [
        {
          "output_type": "execute_result",
          "data": {
            "text/plain": [
              "<Axes: title={'center': 'Location'}, ylabel='Frequency'>"
            ]
          },
          "metadata": {},
          "execution_count": 8
        },
        {
          "output_type": "display_data",
          "data": {
            "text/plain": [
              "<Figure size 640x480 with 1 Axes>"
            ],
            "image/png": "[encoded data removed]"
          },
          "metadata": {}
        }
      ],
      "source": [
        "X['location'].value_counts().plot(kind='hist',color=\"blue\", title= 'Location')"
      ]
    },
    {
      "cell_type": "code",
      "execution_count": 9,
      "metadata": {
        "colab": {
          "base_uri": "https://localhost:8080/",
          "height": 469
        },
        "id": "c_Af0WKrP08O",
        "outputId": "e09db090-19ab-4a9d-b824-784e1219e601"
      },
      "outputs": [
        {
          "output_type": "execute_result",
          "data": {
            "text/plain": [
              "<Axes: title={'center': 'Job_Title'}, ylabel='Frequency'>"
            ]
          },
          "metadata": {},
          "execution_count": 9
        },
        {
          "output_type": "display_data",
          "data": {
            "text/plain": [
              "<Figure size 640x480 with 1 Axes>"
            ],
            "image/png": "[encoded data removed]"
          },
          "metadata": {}
        }
      ],
      "source": [
        "X['job_title'].value_counts().plot(kind='hist', color=\"green\", xlabel= 'related sentences', title= 'Job_Title')"
      ]
    },
    {
      "cell_type": "markdown",
      "metadata": {
        "id": "CriG6VzVSjcK"
      },
      "source": [
        "## Encoding categorical data"
      ]
    },
    {
      "cell_type": "markdown",
      "metadata": {
        "id": "O3T__R_sP08Q"
      },
      "source": [
        "### Converting connection Column into Integer"
      ]
    },
    {
      "cell_type": "code",
      "execution_count": 10,
      "metadata": {
        "colab": {
          "base_uri": "https://localhost:8080/"
        },
        "id": "Pq5-7ycqP08Q",
        "outputId": "69c416b9-dbf1-4220-e030-778f410f6cb0"
      },
      "outputs": [
        {
          "output_type": "stream",
          "name": "stdout",
          "text": [
            "<bound method NDFrame.describe of 0       85\n",
            "1      500\n",
            "2       44\n",
            "3      500\n",
            "4      500\n",
            "      ... \n",
            "99     103\n",
            "100    500\n",
            "101     49\n",
            "102    500\n",
            "103    500\n",
            "Name: connection, Length: 104, dtype: Int64>\n"
          ]
        }
      ],
      "source": [
        "X['connection']= X['connection'].str.rstrip('+ ')\n",
        "X['connection'] = X['connection'].astype('Int64')\n",
        "print(X['connection'].describe)"
      ]
    },
    {
      "cell_type": "code",
      "execution_count": 11,
      "metadata": {
        "id": "Kc6Oti8lP08R"
      },
      "outputs": [],
      "source": [
        "X['embedding_Score'] = 0\n",
        "X['similarity_BERT'] = 0"
      ]
    },
    {
      "cell_type": "code",
      "execution_count": 12,
      "metadata": {
        "colab": {
          "base_uri": "https://localhost:8080/"
        },
        "id": "iIQQrt6BP08S",
        "outputId": "d57cae5f-bace-4dab-eb4a-498ad9f5971e"
      },
      "outputs": [
        {
          "output_type": "stream",
          "name": "stdout",
          "text": [
            "      id                                          job_title  \\\n",
            "0      1  2019 C.T. Bauer College of Business Graduate (...   \n",
            "1      2  Native English Teacher at EPIK (English Progra...   \n",
            "2      3              Aspiring Human Resources Professional   \n",
            "3      4             People Development Coordinator at Ryan   \n",
            "4      5    Advisory Board Member at Celal Bayar University   \n",
            "..   ...                                                ...   \n",
            "99   100  Aspiring Human Resources Manager | Graduating ...   \n",
            "100  101              Human Resources Generalist at Loparex   \n",
            "101  102   Business Intelligence and Analytics at Travelers   \n",
            "102  103                     Always set them up for Success   \n",
            "103  104   Director Of Administration at Excellence Logging   \n",
            "\n",
            "                                location  connection  embedding_Score  \\\n",
            "0                         Houston, Texas          85                0   \n",
            "1                                 Kanada         500                0   \n",
            "2    Raleigh-Durham, North Carolina Area          44                0   \n",
            "3                          Denton, Texas         500                0   \n",
            "4                         İzmir, Türkiye         500                0   \n",
            "..                                   ...         ...              ...   \n",
            "99              Cape Girardeau, Missouri         103                0   \n",
            "100  Raleigh-Durham, North Carolina Area         500                0   \n",
            "101           Greater New York City Area          49                0   \n",
            "102             Greater Los Angeles Area         500                0   \n",
            "103                          Katy, Texas         500                0   \n",
            "\n",
            "     similarity_BERT  \n",
            "0                  0  \n",
            "1                  0  \n",
            "2                  0  \n",
            "3                  0  \n",
            "4                  0  \n",
            "..               ...  \n",
            "99                 0  \n",
            "100                0  \n",
            "101                0  \n",
            "102                0  \n",
            "103                0  \n",
            "\n",
            "[104 rows x 6 columns] <bound method NDFrame.describe of       id                                          job_title  \\\n",
            "0      1  2019 C.T. Bauer College of Business Graduate (...   \n",
            "1      2  Native English Teacher at EPIK (English Progra...   \n",
            "2      3              Aspiring Human Resources Professional   \n",
            "3      4             People Development Coordinator at Ryan   \n",
            "4      5    Advisory Board Member at Celal Bayar University   \n",
            "..   ...                                                ...   \n",
            "99   100  Aspiring Human Resources Manager | Graduating ...   \n",
            "100  101              Human Resources Generalist at Loparex   \n",
            "101  102   Business Intelligence and Analytics at Travelers   \n",
            "102  103                     Always set them up for Success   \n",
            "103  104   Director Of Administration at Excellence Logging   \n",
            "\n",
            "                                location  connection  embedding_Score  \\\n",
            "0                         Houston, Texas          85                0   \n",
            "1                                 Kanada         500                0   \n",
            "2    Raleigh-Durham, North Carolina Area          44                0   \n",
            "3                          Denton, Texas         500                0   \n",
            "4                         İzmir, Türkiye         500                0   \n",
            "..                                   ...         ...              ...   \n",
            "99              Cape Girardeau, Missouri         103                0   \n",
            "100  Raleigh-Durham, North Carolina Area         500                0   \n",
            "101           Greater New York City Area          49                0   \n",
            "102             Greater Los Angeles Area         500                0   \n",
            "103                          Katy, Texas         500                0   \n",
            "\n",
            "     similarity_BERT  \n",
            "0                  0  \n",
            "1                  0  \n",
            "2                  0  \n",
            "3                  0  \n",
            "4                  0  \n",
            "..               ...  \n",
            "99                 0  \n",
            "100                0  \n",
            "101                0  \n",
            "102                0  \n",
            "103                0  \n",
            "\n",
            "[104 rows x 6 columns]>\n"
          ]
        }
      ],
      "source": [
        "print(X, X.describe)"
      ]
    },
    {
      "cell_type": "markdown",
      "metadata": {
        "id": "DXh8oVSITIc6"
      },
      "source": [
        "### Tokenization and Word Embedding"
      ]
    },
    {
      "cell_type": "markdown",
      "metadata": {
        "id": "MAe0yDbRP08T"
      },
      "source": [
        "## Using BERT"
      ]
    },
    {
      "cell_type": "code",
      "execution_count": 13,
      "metadata": {
        "id": "xa30DiYpP08T"
      },
      "outputs": [],
      "source": [
        "model = SentenceTransformer('bert-base-nli-mean-tokens')\n",
        "\n",
        "# Encode the sentences\n",
        "embeddings = model.encode(X['job_title']).tolist()"
      ]
    },
    {
      "cell_type": "code",
      "execution_count": 14,
      "metadata": {
        "colab": {
          "base_uri": "https://localhost:8080/"
        },
        "id": "BXz6LwKAP08U",
        "outputId": "61201a93-40e4-4ef4-e6ec-11d09c84992a"
      },
      "outputs": [
        {
          "output_type": "stream",
          "name": "stdout",
          "text": [
            "0      [-0.8347963094711304, 0.7061929106712341, 1.41...\n",
            "1      [-1.104153037071228, 0.6818210482597351, 0.480...\n",
            "2      [0.46927931904792786, 0.28294771909713745, 2.3...\n",
            "3      [-0.6027138829231262, -0.19602417945861816, 1....\n",
            "4      [-0.0554780475795269, -0.19447144865989685, 1....\n",
            "                             ...                        \n",
            "99     [-0.5095099806785583, 0.2794764041900635, 1.60...\n",
            "100    [0.27189886569976807, 0.0620465949177742, 1.32...\n",
            "101    [-0.5368142127990723, 0.6071471571922302, 1.69...\n",
            "102    [0.12111373245716095, -0.07036970555782318, 2....\n",
            "103    [-0.9533588290214539, 0.9029397964477539, 1.01...\n",
            "Name: embedding_Score, Length: 104, dtype: object\n"
          ]
        }
      ],
      "source": [
        "embeding_score = []\n",
        "\n",
        "for e in range(0, len(embeddings)-1):\n",
        "    embeding_score.append(embeddings)\n",
        "    X['embedding_Score'] = embeding_score[e]\n",
        "\n",
        "print(X['embedding_Score'])"
      ]
    },
    {
      "cell_type": "code",
      "execution_count": 15,
      "metadata": {
        "id": "Uf0TSUpGP08U"
      },
      "outputs": [],
      "source": [
        "\n",
        "X['sentence1'] = \"aspiring human resources\"\n",
        "X['sentence2'] = \"seeking human resources\"\n",
        "embeddings1 = model.encode(X['sentence1']).tolist()\n",
        "embeddings2 = model.encode(X['sentence2']).tolist()\n",
        "# print(len(embeddings1))"
      ]
    },
    {
      "cell_type": "code",
      "execution_count": 16,
      "metadata": {
        "colab": {
          "base_uri": "https://localhost:8080/"
        },
        "id": "jtrQ51OwP08V",
        "outputId": "820ea67e-c3df-4bb7-e4b3-1f68f85d6c30"
      },
      "outputs": [
        {
          "output_type": "stream",
          "name": "stdout",
          "text": [
            "      id                                          job_title  \\\n",
            "0      1  2019 C.T. Bauer College of Business Graduate (...   \n",
            "1      2  Native English Teacher at EPIK (English Progra...   \n",
            "2      3              Aspiring Human Resources Professional   \n",
            "3      4             People Development Coordinator at Ryan   \n",
            "4      5    Advisory Board Member at Celal Bayar University   \n",
            "..   ...                                                ...   \n",
            "99   100  Aspiring Human Resources Manager | Graduating ...   \n",
            "100  101              Human Resources Generalist at Loparex   \n",
            "101  102   Business Intelligence and Analytics at Travelers   \n",
            "102  103                     Always set them up for Success   \n",
            "103  104   Director Of Administration at Excellence Logging   \n",
            "\n",
            "                                location  connection  \\\n",
            "0                         Houston, Texas          85   \n",
            "1                                 Kanada         500   \n",
            "2    Raleigh-Durham, North Carolina Area          44   \n",
            "3                          Denton, Texas         500   \n",
            "4                         İzmir, Türkiye         500   \n",
            "..                                   ...         ...   \n",
            "99              Cape Girardeau, Missouri         103   \n",
            "100  Raleigh-Durham, North Carolina Area         500   \n",
            "101           Greater New York City Area          49   \n",
            "102             Greater Los Angeles Area         500   \n",
            "103                          Katy, Texas         500   \n",
            "\n",
            "                                       embedding_Score  similarity_BERT  \\\n",
            "0    [-0.8347963094711304, 0.7061929106712341, 1.41...                0   \n",
            "1    [-1.104153037071228, 0.6818210482597351, 0.480...                0   \n",
            "2    [0.46927931904792786, 0.28294771909713745, 2.3...                0   \n",
            "3    [-0.6027138829231262, -0.19602417945861816, 1....                0   \n",
            "4    [-0.0554780475795269, -0.19447144865989685, 1....                0   \n",
            "..                                                 ...              ...   \n",
            "99   [-0.5095099806785583, 0.2794764041900635, 1.60...                0   \n",
            "100  [0.27189886569976807, 0.0620465949177742, 1.32...                0   \n",
            "101  [-0.5368142127990723, 0.6071471571922302, 1.69...                0   \n",
            "102  [0.12111373245716095, -0.07036970555782318, 2....                0   \n",
            "103  [-0.9533588290214539, 0.9029397964477539, 1.01...                0   \n",
            "\n",
            "                    sentence1                sentence2  \\\n",
            "0    aspiring human resources  seeking human resources   \n",
            "1    aspiring human resources  seeking human resources   \n",
            "2    aspiring human resources  seeking human resources   \n",
            "3    aspiring human resources  seeking human resources   \n",
            "4    aspiring human resources  seeking human resources   \n",
            "..                        ...                      ...   \n",
            "99   aspiring human resources  seeking human resources   \n",
            "100  aspiring human resources  seeking human resources   \n",
            "101  aspiring human resources  seeking human resources   \n",
            "102  aspiring human resources  seeking human resources   \n",
            "103  aspiring human resources  seeking human resources   \n",
            "\n",
            "                                      embedding_Score1  \\\n",
            "0    [0.4868333339691162, -0.05931630730628967, 2.5...   \n",
            "1    [0.4868333339691162, -0.05931630730628967, 2.5...   \n",
            "2    [0.4868333339691162, -0.05931630730628967, 2.5...   \n",
            "3    [0.4868333339691162, -0.05931630730628967, 2.5...   \n",
            "4    [0.4868333339691162, -0.05931630730628967, 2.5...   \n",
            "..                                                 ...   \n",
            "99   [0.4868333339691162, -0.05931630730628967, 2.5...   \n",
            "100  [0.4868333339691162, -0.05931630730628967, 2.5...   \n",
            "101  [0.4868333339691162, -0.05931630730628967, 2.5...   \n",
            "102  [0.4868331849575043, -0.05931580066680908, 2.5...   \n",
            "103  [0.4868331849575043, -0.05931580066680908, 2.5...   \n",
            "\n",
            "                                      embedding_Score2  \n",
            "0    [0.5429046750068665, -0.4305378496646881, 2.26...  \n",
            "1    [0.5429046750068665, -0.4305378496646881, 2.26...  \n",
            "2    [0.5429046750068665, -0.4305378496646881, 2.26...  \n",
            "3    [0.5429046750068665, -0.4305378496646881, 2.26...  \n",
            "4    [0.5429046750068665, -0.4305378496646881, 2.26...  \n",
            "..                                                 ...  \n",
            "99   [0.5429046750068665, -0.4305378496646881, 2.26...  \n",
            "100  [0.5429046750068665, -0.4305378496646881, 2.26...  \n",
            "101  [0.5429046750068665, -0.4305378496646881, 2.26...  \n",
            "102  [0.5429045557975769, -0.4305381774902344, 2.26...  \n",
            "103  [0.5429045557975769, -0.4305381774902344, 2.26...  \n",
            "\n",
            "[104 rows x 10 columns]\n"
          ]
        }
      ],
      "source": [
        "embeding_score1 = []\n",
        "embeding_score2 = []\n",
        "\n",
        "for j in range(0, len(X['sentence1'])-1):\n",
        "    embeding_score1.append(embeddings1)\n",
        "    X['embedding_Score1'] = embeding_score1[j]\n",
        "\n",
        "for em in range(0, len(X['sentence2'])-1):\n",
        "    embeding_score2.append(embeddings2)\n",
        "    X['embedding_Score2'] = embeding_score2[em]\n",
        "\n",
        "\n",
        "print(X)"
      ]
    },
    {
      "cell_type": "markdown",
      "metadata": {
        "id": "FZL9_eWsP08W"
      },
      "source": [
        "## Calculating Cosine Similarity for BERT"
      ]
    },
    {
      "cell_type": "code",
      "execution_count": 17,
      "metadata": {
        "colab": {
          "base_uri": "https://localhost:8080/"
        },
        "id": "pvMc7roRP08W",
        "outputId": "9c580b46-2a3b-490d-fbb3-788f020ef4eb"
      },
      "outputs": [
        {
          "output_type": "stream",
          "name": "stderr",
          "text": [
            "<ipython-input-17-f3d5f0b01939>:6: SettingWithCopyWarning: \n",
            "A value is trying to be set on a copy of a slice from a DataFrame\n",
            "\n",
            "See the caveats in the documentation: https://pandas.pydata.org/pandas-docs/stable/user_guide/indexing.html#returning-a-view-versus-a-copy\n",
            "  X['similarity_BERT'][i] = cosine_similarities[i]\n"
          ]
        }
      ],
      "source": [
        "cosine_similarities = []\n",
        "\n",
        "for i in range (len(X['embedding_Score'])):\n",
        "    similarity = cosine_similarity([X['embedding_Score1'][i]],[X['embedding_Score'][i]])[0][0]\n",
        "    cosine_similarities.append(similarity)\n",
        "    X['similarity_BERT'][i] = cosine_similarities[i]"
      ]
    },
    {
      "cell_type": "code",
      "execution_count": 18,
      "metadata": {
        "colab": {
          "base_uri": "https://localhost:8080/"
        },
        "id": "tEVHnCbvP08X",
        "outputId": "6310a3ec-f54b-42ae-ebd2-71adfa367f81"
      },
      "outputs": [
        {
          "output_type": "stream",
          "name": "stdout",
          "text": [
            "0      0.497849\n",
            "1      0.372279\n",
            "2      0.927214\n",
            "3      0.705831\n",
            "4      0.463202\n",
            "         ...   \n",
            "99     0.500861\n",
            "100    0.609300\n",
            "101    0.455116\n",
            "102    0.618959\n",
            "103    0.488342\n",
            "Name: similarity_BERT, Length: 104, dtype: float64\n"
          ]
        }
      ],
      "source": [
        "print(X['similarity_BERT'])"
      ]
    },
    {
      "cell_type": "code",
      "execution_count": 19,
      "metadata": {
        "colab": {
          "base_uri": "https://localhost:8080/"
        },
        "id": "mN-9eqh3P08Y",
        "outputId": "f4777bf2-df0d-4e83-fee9-866666b284e9"
      },
      "outputs": [
        {
          "output_type": "stream",
          "name": "stderr",
          "text": [
            "<ipython-input-19-6e25c4da1f9c>:7: SettingWithCopyWarning: \n",
            "A value is trying to be set on a copy of a slice from a DataFrame\n",
            "\n",
            "See the caveats in the documentation: https://pandas.pydata.org/pandas-docs/stable/user_guide/indexing.html#returning-a-view-versus-a-copy\n",
            "  X['similarity2_BERT'][i] = cosine_similarities2[i]\n"
          ]
        }
      ],
      "source": [
        "X['similarity2_BERT'] = 0\n",
        "cosine_similarities2 = []\n",
        "\n",
        "for i in range (len(X['embedding_Score'])):\n",
        "    similarity2 = cosine_similarity([X['embedding_Score2'][i]],[X['embedding_Score'][i]])[0][0]\n",
        "    cosine_similarities2.append(similarity2)\n",
        "    X['similarity2_BERT'][i] = cosine_similarities2[i]"
      ]
    },
    {
      "cell_type": "code",
      "execution_count": 20,
      "metadata": {
        "colab": {
          "base_uri": "https://localhost:8080/"
        },
        "id": "apx4kLFBP08Z",
        "outputId": "3f6041c0-c1ce-470b-fcba-6139d691041f"
      },
      "outputs": [
        {
          "output_type": "stream",
          "name": "stdout",
          "text": [
            "0      0.220571\n",
            "1      0.324733\n",
            "2      0.709421\n",
            "3      0.668772\n",
            "4      0.468544\n",
            "         ...   \n",
            "99     0.241682\n",
            "100    0.650529\n",
            "101    0.436132\n",
            "102    0.488246\n",
            "103    0.410908\n",
            "Name: similarity2_BERT, Length: 104, dtype: float64\n"
          ]
        }
      ],
      "source": [
        "print(X['similarity2_BERT'])"
      ]
    },
    {
      "cell_type": "markdown",
      "metadata": {
        "id": "Y4Kd3LskP08a"
      },
      "source": [
        "## Using Word2Vec"
      ]
    },
    {
      "cell_type": "code",
      "execution_count": 21,
      "metadata": {
        "id": "7liNH9dDP08a"
      },
      "outputs": [],
      "source": [
        "X['preprocessed_sentences'] = X['job_title'].apply(lambda x: simple_preprocess(x))\n",
        "\n",
        "X['preprocessed_sentences1'] = X['sentence1'].apply(lambda x: simple_preprocess(x))\n",
        "\n",
        "X['preprocessed_sentences2'] = X['sentence2'].apply(lambda x: simple_preprocess(x))\n",
        ""
      ]
    },
    {
      "cell_type": "markdown",
      "metadata": {
        "id": "Y5_Xyc5qP08b"
      },
      "source": [
        "### Encoding Job_title"
      ]
    },
    {
      "cell_type": "code",
      "execution_count": 22,
      "metadata": {
        "colab": {
          "base_uri": "https://localhost:8080/"
        },
        "id": "qcI611DbP08c",
        "outputId": "fc464a26-cbaa-4737-a8e8-0b1d1d9921d5"
      },
      "outputs": [
        {
          "output_type": "stream",
          "name": "stdout",
          "text": [
            "[['bauer', 'college', 'of', 'business_graduate', 'magna_cum', 'laude', 'and', 'aspiring', 'human', 'resources', 'professional'], ['native', 'english', 'teacher', 'at', 'epik', 'english', 'program', 'in', 'korea'], ['aspiring', 'human', 'resources', 'professional'], ['people_development', 'coordinator', 'at', 'ryan'], ['advisory', 'board', 'member', 'at', 'celal', 'bayar', 'university'], ['aspiring', 'human', 'resources', 'specialist'], ['student', 'at', 'humber', 'college', 'and', 'aspiring', 'human', 'resources', 'generalist'], ['hr', 'senior', 'specialist'], ['student', 'at', 'humber', 'college', 'and', 'aspiring', 'human', 'resources', 'generalist'], ['seeking', 'human', 'resources', 'hris', 'and', 'generalist', 'positions'], ['student', 'at', 'chapman', 'university'], ['svp', 'chro', 'marketing', 'communications', 'csr', 'officer', 'engie', 'houston', 'the', 'woodlands', 'energy', 'gphr', 'sphr'], ['human', 'resources', 'coordinator', 'at', 'buckhead', 'atlanta'], ['bauer', 'college', 'of', 'business_graduate', 'magna_cum', 'laude', 'and', 'aspiring', 'human', 'resources', 'professional'], ['bauer', 'college', 'of', 'business_graduate', 'magna_cum', 'laude', 'and', 'aspiring', 'human', 'resources', 'professional'], ['native', 'english', 'teacher', 'at', 'epik', 'english', 'program', 'in', 'korea'], ['aspiring', 'human', 'resources', 'professional'], ['people_development', 'coordinator', 'at', 'ryan'], ['bauer', 'college', 'of', 'business_graduate', 'magna_cum', 'laude', 'and', 'aspiring', 'human', 'resources', 'professional'], ['native', 'english', 'teacher', 'at', 'epik', 'english', 'program', 'in', 'korea'], ['aspiring', 'human', 'resources', 'professional'], ['people_development', 'coordinator', 'at', 'ryan'], ['advisory', 'board', 'member', 'at', 'celal', 'bayar', 'university'], ['aspiring', 'human', 'resources', 'specialist'], ['student', 'at', 'humber', 'college', 'and', 'aspiring', 'human', 'resources', 'generalist'], ['hr', 'senior', 'specialist'], ['aspiring', 'human', 'resources', 'management', 'student', 'seeking', 'an', 'internship'], ['seeking', 'human', 'resources', 'opportunities'], ['aspiring', 'human', 'resources', 'management', 'student', 'seeking', 'an', 'internship'], ['seeking', 'human', 'resources', 'opportunities'], ['bauer', 'college', 'of', 'business_graduate', 'magna_cum', 'laude', 'and', 'aspiring', 'human', 'resources', 'professional'], ['native', 'english', 'teacher', 'at', 'epik', 'english', 'program', 'in', 'korea'], ['aspiring', 'human', 'resources', 'professional'], ['people_development', 'coordinator', 'at', 'ryan'], ['advisory', 'board', 'member', 'at', 'celal', 'bayar', 'university'], ['aspiring', 'human', 'resources', 'specialist'], ['student', 'at', 'humber', 'college', 'and', 'aspiring', 'human', 'resources', 'generalist'], ['hr', 'senior', 'specialist'], ['student', 'at', 'humber', 'college', 'and', 'aspiring', 'human', 'resources', 'generalist'], ['seeking', 'human', 'resources', 'hris', 'and', 'generalist', 'positions'], ['student', 'at', 'chapman', 'university'], ['svp', 'chro', 'marketing', 'communications', 'csr', 'officer', 'engie', 'houston', 'the', 'woodlands', 'energy', 'gphr', 'sphr'], ['human', 'resources', 'coordinator', 'at', 'buckhead', 'atlanta'], ['bauer', 'college', 'of', 'business_graduate', 'magna_cum', 'laude', 'and', 'aspiring', 'human', 'resources', 'professional'], ['native', 'english', 'teacher', 'at', 'epik', 'english', 'program', 'in', 'korea'], ['aspiring', 'human', 'resources', 'professional'], ['people_development', 'coordinator', 'at', 'ryan'], ['advisory', 'board', 'member', 'at', 'celal', 'bayar', 'university'], ['aspiring', 'human', 'resources', 'specialist'], ['student', 'at', 'humber', 'college', 'and', 'aspiring', 'human', 'resources', 'generalist'], ['hr', 'senior', 'specialist'], ['student', 'at', 'humber', 'college', 'and', 'aspiring', 'human', 'resources', 'generalist'], ['seeking', 'human', 'resources', 'hris', 'and', 'generalist', 'positions'], ['student', 'at', 'chapman', 'university'], ['svp', 'chro', 'marketing', 'communications', 'csr', 'officer', 'engie', 'houston', 'the', 'woodlands', 'energy', 'gphr', 'sphr'], ['human', 'resources', 'coordinator', 'at', 'buckhead', 'atlanta'], ['bauer', 'college', 'of', 'business_graduate', 'magna_cum', 'laude', 'and', 'aspiring', 'human', 'resources', 'professional'], ['aspiring', 'human', 'resources', 'professional'], ['people_development', 'coordinator', 'at', 'ryan'], ['aspiring', 'human', 'resources', 'specialist'], ['hr', 'senior', 'specialist'], ['seeking', 'human', 'resources', 'hris', 'and', 'generalist', 'positions'], ['student', 'at', 'chapman', 'university'], ['svp', 'chro', 'marketing', 'communications', 'csr', 'officer', 'engie', 'houston', 'the', 'woodlands', 'energy', 'gphr', 'sphr'], ['human', 'resources', 'coordinator', 'at', 'buckhead', 'atlanta'], ['experienced', 'retail', 'manager', 'and', 'aspiring', 'human', 'resources', 'professional'], ['human', 'resources', 'staffing', 'and', 'recruiting', 'professional'], ['human', 'resources', 'specialist', 'at', 'luxottica'], ['director', 'of', 'human', 'resources', 'north', 'america', 'groupe', 'beneteau'], ['retired', 'army', 'national', 'guard', 'recruiter', 'office', 'manager', 'seeking', 'position', 'in', 'human', 'resources'], ['human', 'resources', 'generalist', 'at', 'scottmadden', 'inc'], ['business', 'management', 'major', 'and', 'aspiring', 'human', 'resources', 'manager'], ['aspiring', 'human', 'resources', 'manager', 'seeking', 'internship', 'in', 'human', 'resources'], ['human', 'resources', 'professional'], ['nortia', 'staffing', 'is', 'seeking', 'human', 'resources', 'payroll', 'administrative', 'professionals'], ['aspiring', 'human', 'resources', 'professional', 'passionate', 'about', 'helping', 'to', 'create', 'an', 'inclusive', 'and', 'engaging', 'work', 'environment'], ['human', 'resources', 'conflict', 'management', 'policies', 'procedures', 'talent', 'management', 'benefits', 'compensation'], ['human', 'resources', 'generalist', 'at', 'schwan'], ['liberal', 'arts', 'major', 'aspiring', 'human', 'resources', 'analyst'], ['junior', 'mes', 'engineer', 'information', 'systems'], ['senior', 'human', 'resources', 'business', 'partner', 'at', 'heil', 'environmental'], ['aspiring', 'human', 'resources', 'professional', 'an', 'energetic', 'and', 'team', 'focused', 'leader'], ['hr', 'manager', 'at', 'endemol', 'shine', 'north', 'america'], ['human', 'resources', 'professional', 'for', 'the', 'world', 'leader', 'in', 'gis', 'software'], ['rrp', 'brand', 'portfolio', 'executive', 'at', 'jti', 'japan', 'tobacco', 'international'], ['information', 'systems', 'specialist', 'and', 'programmer', 'with', 'love', 'for', 'data', 'and', 'organization'], ['bachelor', 'of', 'science', 'in', 'biology', 'from', 'victoria', 'university', 'of', 'wellington'], ['human', 'resources', 'management', 'major'], ['director', 'human', 'resources', 'at', 'ey'], ['undergraduate', 'research', 'assistant', 'at', 'styczynski', 'lab'], ['lead', 'official', 'at', 'western', 'illinois', 'university'], ['seeking', 'employment', 'opportunities', 'within', 'customer', 'service', 'or', 'patient', 'care'], ['admissions', 'representative', 'at', 'community', 'medical', 'center', 'long', 'beach'], ['seeking', 'human', 'resources', 'opportunities', 'open', 'to', 'travel', 'and', 'relocation'], ['student', 'at', 'westfield', 'state', 'university'], ['student', 'at', 'indiana', 'university', 'kokomo', 'business', 'management', 'retail', 'manager', 'at', 'delphi', 'hardware', 'and', 'paint'], ['aspiring', 'human', 'resources', 'professional'], ['student'], ['seeking', 'human', 'resources', 'position'], ['aspiring', 'human', 'resources', 'manager', 'graduating', 'may', 'seeking', 'an', 'entry', 'level', 'human', 'resources', 'position', 'in', 'st', 'louis'], ['human', 'resources', 'generalist', 'at', 'loparex'], ['business', 'intelligence', 'and', 'analytics', 'at', 'travelers'], ['always', 'set', 'them', 'up', 'for', 'success'], ['director', 'of', 'administration', 'at', 'excellence', 'logging']]\n",
            "0      [[0.002595889, 0.00079695194, -0.0024799095, 0...\n",
            "1      [[0.008391553, -0.0006160744, -0.009428633, 0....\n",
            "2      [[-0.008181947, 0.009294008, -0.00019996222, -...\n",
            "3      [[-0.002502422, -0.005902345, 0.0074884333, -0...\n",
            "4      [[0.00015559199, 0.0030287697, -0.0068114116, ...\n",
            "                             ...                        \n",
            "99     [[-0.008181947, 0.009294008, -0.00019996222, -...\n",
            "100    [[-0.008571673, 0.003667446, 0.005239203, 0.00...\n",
            "101    [[-0.0070810243, 0.0012273943, -0.0071687517, ...\n",
            "102                                                   []\n",
            "103    [[-0.0018622689, -0.0052930173, 0.009443407, -...\n",
            "Name: embedding_Score_wv, Length: 104, dtype: object\n"
          ]
        }
      ],
      "source": [
        "# Create a list of preprocessed sentences\n",
        "sentences = X['preprocessed_sentences'].tolist()\n",
        "\n",
        "# Create bigrams/trigrams to improve word2vec performance\n",
        "phrases = Phrases(sentences, min_count=5, threshold=10)\n",
        "bigram = Phraser(phrases)\n",
        "sentences = list(bigram[sentences])\n",
        "\n",
        "print(sentences)\n",
        "\n",
        "# Train the word2vec model\n",
        "word2vec_model = Word2Vec(sentences, workers=4)\n",
        "\n",
        "X['embedding_Score_wv'] = 0\n",
        "\n",
        "# Calculate word2vec embeddings for each sentence\n",
        "X['embedding_Score_wv'] = sentences\n",
        "X['embedding_Score_wv'] = X['embedding_Score_wv'].apply(lambda x: [word2vec_model.wv[word] for word in x if word in word2vec_model.wv])\n",
        "\n",
        "print(X['embedding_Score_wv'])"
      ]
    },
    {
      "cell_type": "code",
      "execution_count": 23,
      "metadata": {
        "id": "Dg9xvjHKP08d"
      },
      "outputs": [],
      "source": [
        "# Create a list of preprocessed sentences\n",
        "sentences1 = X['preprocessed_sentences1'].tolist()\n",
        "sentences2 = X['preprocessed_sentences2'].tolist()\n",
        "\n",
        "# Create bigrams/trigrams to improve word2vec performance\n",
        "phrases1 = Phrases(sentences1, min_count=5, threshold=10)\n",
        "bigram1 = Phraser(phrases1)\n",
        "sentences1 = list(bigram1[sentences1])\n",
        "\n",
        "phrases2 = Phrases(sentences2, min_count=5, threshold=10)\n",
        "bigram2 = Phraser(phrases2)\n",
        "sentences2 = list(bigram2[sentences2])\n",
        "\n",
        "# Train the word2vec model\n",
        "word2vec_model1 = Word2Vec(sentences1,  workers=4)\n",
        "word2vec_model2 = Word2Vec(sentences2,  workers=4)\n",
        "\n",
        "X['embedding_Score_wv1'] = 0\n",
        "X['embedding_Score_wv2'] = 0\n",
        "\n",
        "# Calculate word2vec embeddings for each sentence\n",
        "X['embedding_Score_wv1'] = sentences1\n",
        "X['embedding_Score_wv1'] = X['embedding_Score_wv1'].apply(lambda y: [word2vec_model1.wv[word] for word in y if word in word2vec_model1.wv])\n",
        "\n",
        "X['embedding_Score_wv2'] = sentences2\n",
        "X['embedding_Score_wv2'] = X['embedding_Score_wv2'].apply(lambda z: [word2vec_model2.wv[word] for word in z if word in word2vec_model2.wv])"
      ]
    },
    {
      "cell_type": "markdown",
      "metadata": {
        "id": "HpwBs_4-P08f"
      },
      "source": [
        "## Calculating Cosine Similarity for Word2Vec"
      ]
    },
    {
      "cell_type": "code",
      "execution_count": 24,
      "metadata": {
        "colab": {
          "base_uri": "https://localhost:8080/"
        },
        "id": "xIQA54XgP08g",
        "outputId": "31f3618c-ad49-4df3-8b16-e327391c1499"
      },
      "outputs": [
        {
          "output_type": "stream",
          "name": "stderr",
          "text": [
            "<ipython-input-24-c93f11048e2d>:11: SettingWithCopyWarning: \n",
            "A value is trying to be set on a copy of a slice from a DataFrame\n",
            "\n",
            "See the caveats in the documentation: https://pandas.pydata.org/pandas-docs/stable/user_guide/indexing.html#returning-a-view-versus-a-copy\n",
            "  X['similarity_WV'][i] = cosine_similarities_wv[i]\n",
            "/usr/local/lib/python3.10/dist-packages/numpy/core/fromnumeric.py:3474: RuntimeWarning: Mean of empty slice.\n",
            "  return _methods._mean(a, axis=axis, dtype=dtype,\n",
            "/usr/local/lib/python3.10/dist-packages/numpy/core/_methods.py:189: RuntimeWarning: invalid value encountered in double_scalars\n",
            "  ret = ret.dtype.type(ret / rcount)\n",
            "/usr/local/lib/python3.10/dist-packages/numpy/core/fromnumeric.py:3474: RuntimeWarning: Mean of empty slice.\n",
            "  return _methods._mean(a, axis=axis, dtype=dtype,\n",
            "/usr/local/lib/python3.10/dist-packages/numpy/core/_methods.py:189: RuntimeWarning: invalid value encountered in double_scalars\n",
            "  ret = ret.dtype.type(ret / rcount)\n"
          ]
        }
      ],
      "source": [
        "X['similarity_WV'] = 0\n",
        "cosine_similarities_wv = []\n",
        "\n",
        "for i in range(len(X)):\n",
        "    try:\n",
        "        similarity_wv = cosine_similarity(np.mean(X['embedding_Score_wv'][i] ,axis=0).reshape(1,-1)\n",
        "                                      ,np.mean(X['embedding_Score_wv1'][i] ,axis=0).reshape(1,-1))\n",
        "        cosine_similarities_wv.append(similarity_wv[0][0])\n",
        "    except:\n",
        "        cosine_similarities_wv.append(0)\n",
        "    X['similarity_WV'][i] = cosine_similarities_wv[i]"
      ]
    },
    {
      "cell_type": "code",
      "execution_count": 25,
      "metadata": {
        "colab": {
          "base_uri": "https://localhost:8080/"
        },
        "id": "b7IZyPoiP08h",
        "outputId": "2f0d11ff-f0ef-4e1a-9406-bb1bf364542b"
      },
      "outputs": [
        {
          "output_type": "stream",
          "name": "stdout",
          "text": [
            "0      0.540846\n",
            "1      0.302231\n",
            "2      0.550846\n",
            "3      0.170910\n",
            "4      0.339880\n",
            "         ...   \n",
            "99     0.631050\n",
            "100    0.873759\n",
            "101    0.424262\n",
            "102    0.000000\n",
            "103    0.439020\n",
            "Name: similarity_WV, Length: 104, dtype: float64\n"
          ]
        }
      ],
      "source": [
        "print(X['similarity_WV'])"
      ]
    },
    {
      "cell_type": "code",
      "execution_count": 26,
      "metadata": {
        "colab": {
          "base_uri": "https://localhost:8080/"
        },
        "id": "ZFJ9-P8mP08i",
        "outputId": "bb91fed8-537f-4058-afdd-af2c0d7b5d14"
      },
      "outputs": [
        {
          "output_type": "stream",
          "name": "stderr",
          "text": [
            "<ipython-input-26-9b3fc5bde74e>:11: SettingWithCopyWarning: \n",
            "A value is trying to be set on a copy of a slice from a DataFrame\n",
            "\n",
            "See the caveats in the documentation: https://pandas.pydata.org/pandas-docs/stable/user_guide/indexing.html#returning-a-view-versus-a-copy\n",
            "  X['similarity2_WV'][i] = cosine_similarities2_wv[i]\n",
            "/usr/local/lib/python3.10/dist-packages/numpy/core/fromnumeric.py:3474: RuntimeWarning: Mean of empty slice.\n",
            "  return _methods._mean(a, axis=axis, dtype=dtype,\n",
            "/usr/local/lib/python3.10/dist-packages/numpy/core/_methods.py:189: RuntimeWarning: invalid value encountered in double_scalars\n",
            "  ret = ret.dtype.type(ret / rcount)\n",
            "/usr/local/lib/python3.10/dist-packages/numpy/core/fromnumeric.py:3474: RuntimeWarning: Mean of empty slice.\n",
            "  return _methods._mean(a, axis=axis, dtype=dtype,\n",
            "/usr/local/lib/python3.10/dist-packages/numpy/core/_methods.py:189: RuntimeWarning: invalid value encountered in double_scalars\n",
            "  ret = ret.dtype.type(ret / rcount)\n"
          ]
        }
      ],
      "source": [
        "X['similarity2_WV'] = 0\n",
        "cosine_similarities2_wv = []\n",
        "\n",
        "for i in range(len(X)):\n",
        "    try:\n",
        "        similarity2_wv = cosine_similarity(np.mean(X['embedding_Score_wv'][i] ,axis=0).reshape(1,-1)\n",
        "                                      ,np.mean(X['embedding_Score_wv2'][i] ,axis=0).reshape(1,-1))\n",
        "        cosine_similarities2_wv.append(similarity2_wv[0][0])\n",
        "    except:\n",
        "        cosine_similarities2_wv.append(0)\n",
        "    X['similarity2_WV'][i] = cosine_similarities2_wv[i]"
      ]
    },
    {
      "cell_type": "code",
      "execution_count": 27,
      "metadata": {
        "colab": {
          "base_uri": "https://localhost:8080/"
        },
        "id": "1HNwRu0vP08j",
        "outputId": "2548f623-e9ee-48f9-cb20-4de84b58ea80"
      },
      "outputs": [
        {
          "output_type": "stream",
          "name": "stdout",
          "text": [
            "0      0.540846\n",
            "1      0.302231\n",
            "2      0.550846\n",
            "3      0.170910\n",
            "4      0.339880\n",
            "         ...   \n",
            "99     0.631050\n",
            "100    0.873759\n",
            "101    0.424262\n",
            "102    0.000000\n",
            "103    0.439020\n",
            "Name: similarity2_WV, Length: 104, dtype: float64\n"
          ]
        }
      ],
      "source": [
        "print(X['similarity2_WV'])"
      ]
    },
    {
      "cell_type": "code",
      "execution_count": 28,
      "metadata": {
        "colab": {
          "base_uri": "https://localhost:8080/"
        },
        "id": "Qfa_GjZiP08k",
        "outputId": "ec2b42cd-7077-447f-fb3a-7e647270e1dd"
      },
      "outputs": [
        {
          "output_type": "execute_result",
          "data": {
            "text/plain": [
              "array([[0.49784945, 0.3722793 , 0.92721359, 0.70583113, 0.46320153,\n",
              "        0.94260956, 0.72150864, 0.68061271, 0.72150864, 0.76440682,\n",
              "        0.44876228, 0.29949858, 0.39719843, 0.49784945, 0.49784945,\n",
              "        0.3722793 , 0.92721359, 0.70583113, 0.49784945, 0.3722793 ,\n",
              "        0.92721359, 0.70583113, 0.46320153, 0.94260956, 0.72150864,\n",
              "        0.68061271, 0.67100712, 0.83371314, 0.67100719, 0.83371314,\n",
              "        0.49784951, 0.3722793 , 0.92721362, 0.70583113, 0.46320153,\n",
              "        0.94260956, 0.72150864, 0.68061271, 0.72150864, 0.76440682,\n",
              "        0.44876228, 0.29949858, 0.39719843, 0.49784945, 0.3722793 ,\n",
              "        0.92721359, 0.70583113, 0.46320153, 0.94260956, 0.72150864,\n",
              "        0.68061271, 0.72150864, 0.76440682, 0.44876228, 0.29949858,\n",
              "        0.39719843, 0.49784945, 0.92721359, 0.70583113, 0.94260956,\n",
              "        0.68061271, 0.76440682, 0.4487622 , 0.29949858, 0.39719843,\n",
              "        0.70073822, 0.751283  , 0.69538511, 0.44915772, 0.4233802 ,\n",
              "        0.54158003, 0.65605046, 0.7402717 , 0.78272299, 0.54420344,\n",
              "        0.69621825, 0.61034696, 0.53816517, 0.59754328, 0.56517753,\n",
              "        0.48132116, 0.80302584, 0.37163401, 0.53796158, 0.25942201,\n",
              "        0.50971301, 0.08629325, 0.68386303, 0.70359684, 0.43730504,\n",
              "        0.3835103 , 0.62829983, 0.1649339 , 0.67053866, 0.49145709,\n",
              "        0.25283491, 0.92721359, 0.65468871, 0.84776082, 0.50086128,\n",
              "        0.60929953, 0.45511637, 0.61895875, 0.48834151]])"
            ]
          },
          "metadata": {},
          "execution_count": 28
        }
      ],
      "source": [
        "# print(X['similarity_WV'].dtype)\n",
        "np.array(X['similarity_BERT']).reshape(1,-1)"
      ]
    },
    {
      "cell_type": "code",
      "execution_count": 29,
      "metadata": {
        "colab": {
          "base_uri": "https://localhost:8080/",
          "height": 297
        },
        "id": "wSLfw2SjP08m",
        "outputId": "bae1622d-5f18-4c54-9607-6e280f506a90"
      },
      "outputs": [
        {
          "output_type": "execute_result",
          "data": {
            "text/plain": [
              "               id  connection  similarity_BERT  similarity2_BERT  \\\n",
              "count  104.000000       104.0       104.000000        104.000000   \n",
              "mean    52.500000  262.663462         0.602627          0.509674   \n",
              "std     30.166206  222.602812         0.196812          0.200508   \n",
              "min      1.000000         1.0         0.086293          0.025089   \n",
              "25%     26.750000        47.0         0.453627          0.345870   \n",
              "50%     52.500000       193.0         0.623629          0.522866   \n",
              "75%     78.250000       500.0         0.721509          0.673689   \n",
              "max    104.000000       500.0         0.942610          0.969809   \n",
              "\n",
              "       similarity_WV  similarity2_WV  \n",
              "count     104.000000      104.000000  \n",
              "mean        0.463935        0.463935  \n",
              "std         0.247328        0.247328  \n",
              "min        -0.010583       -0.010583  \n",
              "25%         0.275294        0.275294  \n",
              "50%         0.540846        0.540846  \n",
              "75%         0.631143        0.631143  \n",
              "max         0.999089        0.999089  "
            ],
            "text/html": [
              "\n",
              "  <div id=\"df-08d19839-b7ca-445c-9f1f-bec461b3140b\">\n",
              "    <div class=\"colab-df-container\">\n",
              "      <div>\n",
              "<style scoped>\n",
              "    .dataframe tbody tr th:only-of-type {\n",
              "        vertical-align: middle;\n",
              "    }\n",
              "\n",
              "    .dataframe tbody tr th {\n",
              "        vertical-align: top;\n",
              "    }\n",
              "\n",
              "    .dataframe thead th {\n",
              "        text-align: right;\n",
              "    }\n",
              "</style>\n",
              "<table border=\"1\" class=\"dataframe\">\n",
              "  <thead>\n",
              "    <tr style=\"text-align: right;\">\n",
              "      <th></th>\n",
              "      <th>id</th>\n",
              "      <th>connection</th>\n",
              "      <th>similarity_BERT</th>\n",
              "      <th>similarity2_BERT</th>\n",
              "      <th>similarity_WV</th>\n",
              "      <th>similarity2_WV</th>\n",
              "    </tr>\n",
              "  </thead>\n",
              "  <tbody>\n",
              "    <tr>\n",
              "      <th>count</th>\n",
              "      <td>104.000000</td>\n",
              "      <td>104.0</td>\n",
              "      <td>104.000000</td>\n",
              "      <td>104.000000</td>\n",
              "      <td>104.000000</td>\n",
              "      <td>104.000000</td>\n",
              "    </tr>\n",
              "    <tr>\n",
              "      <th>mean</th>\n",
              "      <td>52.500000</td>\n",
              "      <td>262.663462</td>\n",
              "      <td>0.602627</td>\n",
              "      <td>0.509674</td>\n",
              "      <td>0.463935</td>\n",
              "      <td>0.463935</td>\n",
              "    </tr>\n",
              "    <tr>\n",
              "      <th>std</th>\n",
              "      <td>30.166206</td>\n",
              "      <td>222.602812</td>\n",
              "      <td>0.196812</td>\n",
              "      <td>0.200508</td>\n",
              "      <td>0.247328</td>\n",
              "      <td>0.247328</td>\n",
              "    </tr>\n",
              "    <tr>\n",
              "      <th>min</th>\n",
              "      <td>1.000000</td>\n",
              "      <td>1.0</td>\n",
              "      <td>0.086293</td>\n",
              "      <td>0.025089</td>\n",
              "      <td>-0.010583</td>\n",
              "      <td>-0.010583</td>\n",
              "    </tr>\n",
              "    <tr>\n",
              "      <th>25%</th>\n",
              "      <td>26.750000</td>\n",
              "      <td>47.0</td>\n",
              "      <td>0.453627</td>\n",
              "      <td>0.345870</td>\n",
              "      <td>0.275294</td>\n",
              "      <td>0.275294</td>\n",
              "    </tr>\n",
              "    <tr>\n",
              "      <th>50%</th>\n",
              "      <td>52.500000</td>\n",
              "      <td>193.0</td>\n",
              "      <td>0.623629</td>\n",
              "      <td>0.522866</td>\n",
              "      <td>0.540846</td>\n",
              "      <td>0.540846</td>\n",
              "    </tr>\n",
              "    <tr>\n",
              "      <th>75%</th>\n",
              "      <td>78.250000</td>\n",
              "      <td>500.0</td>\n",
              "      <td>0.721509</td>\n",
              "      <td>0.673689</td>\n",
              "      <td>0.631143</td>\n",
              "      <td>0.631143</td>\n",
              "    </tr>\n",
              "    <tr>\n",
              "      <th>max</th>\n",
              "      <td>104.000000</td>\n",
              "      <td>500.0</td>\n",
              "      <td>0.942610</td>\n",
              "      <td>0.969809</td>\n",
              "      <td>0.999089</td>\n",
              "      <td>0.999089</td>\n",
              "    </tr>\n",
              "  </tbody>\n",
              "</table>\n",
              "</div>\n",
              "      <button class=\"colab-df-convert\" onclick=\"convertToInteractive('df-08d19839-b7ca-445c-9f1f-bec461b3140b')\"\n",
              "              title=\"Convert this dataframe to an interactive table.\"\n",
              "              style=\"display:none;\">\n",
              "        \n",
              "  <svg xmlns=\"http://www.w3.org/2000/svg\" height=\"24px\"viewBox=\"0 0 24 24\"\n",
              "       width=\"24px\">\n",
              "    <path d=\"M0 0h24v24H0V0z\" fill=\"none\"/>\n",
              "    <path d=\"M18.56 5.44l.94 2.06.94-2.06 2.06-.94-2.06-.94-.94-2.06-.94 2.06-2.06.94zm-11 1L8.5 8.5l.94-2.06 2.06-.94-2.06-.94L8.5 2.5l-.94 2.06-2.06.94zm10 10l.94 2.06.94-2.06 2.06-.94-2.06-.94-.94-2.06-.94 2.06-2.06.94z\"/><path d=\"M17.41 7.96l-1.37-1.37c-.4-.4-.92-.59-1.43-.59-.52 0-1.04.2-1.43.59L10.3 9.45l-7.72 7.72c-.78.78-.78 2.05 0 2.83L4 21.41c.39.39.9.59 1.41.59.51 0 1.02-.2 1.41-.59l7.78-7.78 2.81-2.81c.8-.78.8-2.07 0-2.86zM5.41 20L4 18.59l7.72-7.72 1.47 1.35L5.41 20z\"/>\n",
              "  </svg>\n",
              "      </button>\n",
              "      \n",
              "  <style>\n",
              "    .colab-df-container {\n",
              "      display:flex;\n",
              "      flex-wrap:wrap;\n",
              "      gap: 12px;\n",
              "    }\n",
              "\n",
              "    .colab-df-convert {\n",
              "      background-color: #E8F0FE;\n",
              "      border: none;\n",
              "      border-radius: 50%;\n",
              "      cursor: pointer;\n",
              "      display: none;\n",
              "      fill: #1967D2;\n",
              "      height: 32px;\n",
              "      padding: 0 0 0 0;\n",
              "      width: 32px;\n",
              "    }\n",
              "\n",
              "    .colab-df-convert:hover {\n",
              "      background-color: #E2EBFA;\n",
              "      box-shadow: 0px 1px 2px rgba(60, 64, 67, 0.3), 0px 1px 3px 1px rgba(60, 64, 67, 0.15);\n",
              "      fill: #174EA6;\n",
              "    }\n",
              "\n",
              "    [theme=dark] .colab-df-convert {\n",
              "      background-color: #3B4455;\n",
              "      fill: #D2E3FC;\n",
              "    }\n",
              "\n",
              "    [theme=dark] .colab-df-convert:hover {\n",
              "      background-color: #434B5C;\n",
              "      box-shadow: 0px 1px 3px 1px rgba(0, 0, 0, 0.15);\n",
              "      filter: drop-shadow(0px 1px 2px rgba(0, 0, 0, 0.3));\n",
              "      fill: #FFFFFF;\n",
              "    }\n",
              "  </style>\n",
              "\n",
              "      <script>\n",
              "        const buttonEl =\n",
              "          document.querySelector('#df-08d19839-b7ca-445c-9f1f-bec461b3140b button.colab-df-convert');\n",
              "        buttonEl.style.display =\n",
              "          google.colab.kernel.accessAllowed ? 'block' : 'none';\n",
              "\n",
              "        async function convertToInteractive(key) {\n",
              "          const element = document.querySelector('#df-08d19839-b7ca-445c-9f1f-bec461b3140b');\n",
              "          const dataTable =\n",
              "            await google.colab.kernel.invokeFunction('convertToInteractive',\n",
              "                                                     [key], {});\n",
              "          if (!dataTable) return;\n",
              "\n",
              "          const docLinkHtml = 'Like what you see? Visit the ' +\n",
              "            '<a target=\"_blank\" href=https://colab.research.google.com/notebooks/data_table.ipynb>data table notebook</a>'\n",
              "            + ' to learn more about interactive tables.';\n",
              "          element.innerHTML = '';\n",
              "          dataTable['output_type'] = 'display_data';\n",
              "          await google.colab.output.renderOutput(dataTable, element);\n",
              "          const docLink = document.createElement('div');\n",
              "          docLink.innerHTML = docLinkHtml;\n",
              "          element.appendChild(docLink);\n",
              "        }\n",
              "      </script>\n",
              "    </div>\n",
              "  </div>\n",
              "  "
            ]
          },
          "metadata": {},
          "execution_count": 29
        }
      ],
      "source": [
        "X.describe()"
      ]
    },
    {
      "cell_type": "code",
      "execution_count": 30,
      "metadata": {
        "colab": {
          "base_uri": "https://localhost:8080/"
        },
        "id": "2ilkifmBP08l",
        "outputId": "7b5a8d9a-bad5-4796-aa91-5d7b582e8b2b"
      },
      "outputs": [
        {
          "output_type": "stream",
          "name": "stdout",
          "text": [
            "      id                                          job_title  \\\n",
            "0      1  2019 C.T. Bauer College of Business Graduate (...   \n",
            "1      2  Native English Teacher at EPIK (English Progra...   \n",
            "2      3              Aspiring Human Resources Professional   \n",
            "3      4             People Development Coordinator at Ryan   \n",
            "4      5    Advisory Board Member at Celal Bayar University   \n",
            "..   ...                                                ...   \n",
            "99   100  Aspiring Human Resources Manager | Graduating ...   \n",
            "100  101              Human Resources Generalist at Loparex   \n",
            "101  102   Business Intelligence and Analytics at Travelers   \n",
            "102  103                     Always set them up for Success   \n",
            "103  104   Director Of Administration at Excellence Logging   \n",
            "\n",
            "                                location  connection  \\\n",
            "0                         Houston, Texas          85   \n",
            "1                                 Kanada         500   \n",
            "2    Raleigh-Durham, North Carolina Area          44   \n",
            "3                          Denton, Texas         500   \n",
            "4                         İzmir, Türkiye         500   \n",
            "..                                   ...         ...   \n",
            "99              Cape Girardeau, Missouri         103   \n",
            "100  Raleigh-Durham, North Carolina Area         500   \n",
            "101           Greater New York City Area          49   \n",
            "102             Greater Los Angeles Area         500   \n",
            "103                          Katy, Texas         500   \n",
            "\n",
            "                                       embedding_Score  similarity_BERT  \\\n",
            "0    [-0.8347963094711304, 0.7061929106712341, 1.41...         0.497849   \n",
            "1    [-1.104153037071228, 0.6818210482597351, 0.480...         0.372279   \n",
            "2    [0.46927931904792786, 0.28294771909713745, 2.3...         0.927214   \n",
            "3    [-0.6027138829231262, -0.19602417945861816, 1....         0.705831   \n",
            "4    [-0.0554780475795269, -0.19447144865989685, 1....         0.463202   \n",
            "..                                                 ...              ...   \n",
            "99   [-0.5095099806785583, 0.2794764041900635, 1.60...         0.500861   \n",
            "100  [0.27189886569976807, 0.0620465949177742, 1.32...         0.609300   \n",
            "101  [-0.5368142127990723, 0.6071471571922302, 1.69...         0.455116   \n",
            "102  [0.12111373245716095, -0.07036970555782318, 2....         0.618959   \n",
            "103  [-0.9533588290214539, 0.9029397964477539, 1.01...         0.488342   \n",
            "\n",
            "                    sentence1                sentence2  \\\n",
            "0    aspiring human resources  seeking human resources   \n",
            "1    aspiring human resources  seeking human resources   \n",
            "2    aspiring human resources  seeking human resources   \n",
            "3    aspiring human resources  seeking human resources   \n",
            "4    aspiring human resources  seeking human resources   \n",
            "..                        ...                      ...   \n",
            "99   aspiring human resources  seeking human resources   \n",
            "100  aspiring human resources  seeking human resources   \n",
            "101  aspiring human resources  seeking human resources   \n",
            "102  aspiring human resources  seeking human resources   \n",
            "103  aspiring human resources  seeking human resources   \n",
            "\n",
            "                                      embedding_Score1  \\\n",
            "0    [0.4868333339691162, -0.05931630730628967, 2.5...   \n",
            "1    [0.4868333339691162, -0.05931630730628967, 2.5...   \n",
            "2    [0.4868333339691162, -0.05931630730628967, 2.5...   \n",
            "3    [0.4868333339691162, -0.05931630730628967, 2.5...   \n",
            "4    [0.4868333339691162, -0.05931630730628967, 2.5...   \n",
            "..                                                 ...   \n",
            "99   [0.4868333339691162, -0.05931630730628967, 2.5...   \n",
            "100  [0.4868333339691162, -0.05931630730628967, 2.5...   \n",
            "101  [0.4868333339691162, -0.05931630730628967, 2.5...   \n",
            "102  [0.4868331849575043, -0.05931580066680908, 2.5...   \n",
            "103  [0.4868331849575043, -0.05931580066680908, 2.5...   \n",
            "\n",
            "                                      embedding_Score2  similarity2_BERT  \\\n",
            "0    [0.5429046750068665, -0.4305378496646881, 2.26...          0.220571   \n",
            "1    [0.5429046750068665, -0.4305378496646881, 2.26...          0.324733   \n",
            "2    [0.5429046750068665, -0.4305378496646881, 2.26...          0.709421   \n",
            "3    [0.5429046750068665, -0.4305378496646881, 2.26...          0.668772   \n",
            "4    [0.5429046750068665, -0.4305378496646881, 2.26...          0.468544   \n",
            "..                                                 ...               ...   \n",
            "99   [0.5429046750068665, -0.4305378496646881, 2.26...          0.241682   \n",
            "100  [0.5429046750068665, -0.4305378496646881, 2.26...          0.650529   \n",
            "101  [0.5429046750068665, -0.4305378496646881, 2.26...          0.436132   \n",
            "102  [0.5429045557975769, -0.4305381774902344, 2.26...          0.488246   \n",
            "103  [0.5429045557975769, -0.4305381774902344, 2.26...          0.410908   \n",
            "\n",
            "                                preprocessed_sentences  \\\n",
            "0    [bauer, college, of, business, graduate, magna...   \n",
            "1    [native, english, teacher, at, epik, english, ...   \n",
            "2           [aspiring, human, resources, professional]   \n",
            "3         [people, development, coordinator, at, ryan]   \n",
            "4    [advisory, board, member, at, celal, bayar, un...   \n",
            "..                                                 ...   \n",
            "99   [aspiring, human, resources, manager, graduati...   \n",
            "100        [human, resources, generalist, at, loparex]   \n",
            "101  [business, intelligence, and, analytics, at, t...   \n",
            "102              [always, set, them, up, for, success]   \n",
            "103  [director, of, administration, at, excellence,...   \n",
            "\n",
            "          preprocessed_sentences1      preprocessed_sentences2  \\\n",
            "0    [aspiring, human, resources]  [seeking, human, resources]   \n",
            "1    [aspiring, human, resources]  [seeking, human, resources]   \n",
            "2    [aspiring, human, resources]  [seeking, human, resources]   \n",
            "3    [aspiring, human, resources]  [seeking, human, resources]   \n",
            "4    [aspiring, human, resources]  [seeking, human, resources]   \n",
            "..                            ...                          ...   \n",
            "99   [aspiring, human, resources]  [seeking, human, resources]   \n",
            "100  [aspiring, human, resources]  [seeking, human, resources]   \n",
            "101  [aspiring, human, resources]  [seeking, human, resources]   \n",
            "102  [aspiring, human, resources]  [seeking, human, resources]   \n",
            "103  [aspiring, human, resources]  [seeking, human, resources]   \n",
            "\n",
            "                                    embedding_Score_wv  \\\n",
            "0    [[0.002595889, 0.00079695194, -0.0024799095, 0...   \n",
            "1    [[0.008391553, -0.0006160744, -0.009428633, 0....   \n",
            "2    [[-0.008181947, 0.009294008, -0.00019996222, -...   \n",
            "3    [[-0.002502422, -0.005902345, 0.0074884333, -0...   \n",
            "4    [[0.00015559199, 0.0030287697, -0.0068114116, ...   \n",
            "..                                                 ...   \n",
            "99   [[-0.008181947, 0.009294008, -0.00019996222, -...   \n",
            "100  [[-0.008571673, 0.003667446, 0.005239203, 0.00...   \n",
            "101  [[-0.0070810243, 0.0012273943, -0.0071687517, ...   \n",
            "102                                                 []   \n",
            "103  [[-0.0018622689, -0.0052930173, 0.009443407, -...   \n",
            "\n",
            "                                   embedding_Score_wv1  \\\n",
            "0    [[9.1554895e-05, 0.003080944, -0.0068162284, -...   \n",
            "1    [[9.1554895e-05, 0.003080944, -0.0068162284, -...   \n",
            "2    [[9.1554895e-05, 0.003080944, -0.0068162284, -...   \n",
            "3    [[9.1554895e-05, 0.003080944, -0.0068162284, -...   \n",
            "4    [[9.1554895e-05, 0.003080944, -0.0068162284, -...   \n",
            "..                                                 ...   \n",
            "99   [[9.1554895e-05, 0.003080944, -0.0068162284, -...   \n",
            "100  [[9.1554895e-05, 0.003080944, -0.0068162284, -...   \n",
            "101  [[9.1554895e-05, 0.003080944, -0.0068162284, -...   \n",
            "102  [[9.1554895e-05, 0.003080944, -0.0068162284, -...   \n",
            "103  [[9.1554895e-05, 0.003080944, -0.0068162284, -...   \n",
            "\n",
            "                                   embedding_Score_wv2  similarity_WV  \\\n",
            "0    [[9.1554895e-05, 0.003080944, -0.0068162284, -...       0.540846   \n",
            "1    [[9.1554895e-05, 0.003080944, -0.0068162284, -...       0.302231   \n",
            "2    [[9.1554895e-05, 0.003080944, -0.0068162284, -...       0.550846   \n",
            "3    [[9.1554895e-05, 0.003080944, -0.0068162284, -...       0.170910   \n",
            "4    [[9.1554895e-05, 0.003080944, -0.0068162284, -...       0.339880   \n",
            "..                                                 ...            ...   \n",
            "99   [[9.1554895e-05, 0.003080944, -0.0068162284, -...       0.631050   \n",
            "100  [[9.1554895e-05, 0.003080944, -0.0068162284, -...       0.873759   \n",
            "101  [[9.1554895e-05, 0.003080944, -0.0068162284, -...       0.424262   \n",
            "102  [[9.1554895e-05, 0.003080944, -0.0068162284, -...       0.000000   \n",
            "103  [[9.1554895e-05, 0.003080944, -0.0068162284, -...       0.439020   \n",
            "\n",
            "     similarity2_WV  \n",
            "0          0.540846  \n",
            "1          0.302231  \n",
            "2          0.550846  \n",
            "3          0.170910  \n",
            "4          0.339880  \n",
            "..              ...  \n",
            "99         0.631050  \n",
            "100        0.873759  \n",
            "101        0.424262  \n",
            "102        0.000000  \n",
            "103        0.439020  \n",
            "\n",
            "[104 rows x 19 columns]\n"
          ]
        }
      ],
      "source": [
        "print(X)"
      ]
    },
    {
      "cell_type": "markdown",
      "metadata": {
        "id": "9aAGt8u2P08n"
      },
      "source": [
        "## Calculating Rank based on Word2Vec similarity as it has the highest MAX"
      ]
    },
    {
      "cell_type": "markdown",
      "metadata": {
        "id": "DraiIg6CP08p"
      },
      "source": [
        "### MinMaxScaler for Connection"
      ]
    },
    {
      "cell_type": "code",
      "execution_count": 31,
      "metadata": {
        "colab": {
          "base_uri": "https://localhost:8080/"
        },
        "id": "tXZfyH4XP08q",
        "outputId": "3985ec11-6bda-4798-a3d4-7915ffed6b69"
      },
      "outputs": [
        {
          "output_type": "stream",
          "name": "stdout",
          "text": [
            "0      0.168337\n",
            "1      1.000000\n",
            "2      0.086172\n",
            "3      1.000000\n",
            "4      1.000000\n",
            "         ...   \n",
            "99     0.204409\n",
            "100    1.000000\n",
            "101    0.096192\n",
            "102    1.000000\n",
            "103    1.000000\n",
            "Name: Connection_Score, Length: 104, dtype: float64\n"
          ]
        }
      ],
      "source": [
        "# Create an instance of MinMaxScaler\n",
        "scaler = MinMaxScaler()\n",
        "\n",
        "# Perform min-max scaling\n",
        "data_scale = np.array(X['connection'])\n",
        "X['Connection_Score'] = scaler.fit(data_scale.reshape(-1, 1))\n",
        "\n",
        "# Scale the data\n",
        "X['Connection_Score'] = scaler.transform(data_scale.reshape(-1, 1))\n",
        "\n",
        "print(X['Connection_Score'])"
      ]
    },
    {
      "cell_type": "markdown",
      "metadata": {
        "id": "RLMi23Z0P08q"
      },
      "source": [
        "### Creating 3 additinal Columns to calculate the higher Scores for Connections and Cosine Similarties"
      ]
    },
    {
      "cell_type": "code",
      "execution_count": 32,
      "metadata": {
        "colab": {
          "base_uri": "https://localhost:8080/"
        },
        "id": "ANEGu3nsP08r",
        "outputId": "ca87bd00-c941-4de7-b708-7c9d4330331a"
      },
      "outputs": [
        {
          "output_type": "stream",
          "name": "stdout",
          "text": [
            "0      0.033667\n",
            "1      0.200000\n",
            "2      0.017234\n",
            "3      0.200000\n",
            "4      0.200000\n",
            "         ...   \n",
            "99     0.040882\n",
            "100    0.200000\n",
            "101    0.019238\n",
            "102    0.200000\n",
            "103    0.200000\n",
            "Name: Connection_Score_Sim, Length: 104, dtype: float64\n"
          ]
        }
      ],
      "source": [
        "X['Connection_Score_Sim']= X['Connection_Score'] * 0.2\n",
        "\n",
        "print(X['Connection_Score_Sim'])"
      ]
    },
    {
      "cell_type": "code",
      "execution_count": 33,
      "metadata": {
        "colab": {
          "base_uri": "https://localhost:8080/"
        },
        "id": "odrBrisTP08s",
        "outputId": "b97ccfb3-d802-46e9-f4a9-1608e347d7cd"
      },
      "outputs": [
        {
          "output_type": "stream",
          "name": "stdout",
          "text": [
            "0      0.574513\n",
            "1      0.502231\n",
            "2      0.568080\n",
            "3      0.370910\n",
            "4      0.539880\n",
            "         ...   \n",
            "99     0.671932\n",
            "100    1.073759\n",
            "101    0.443501\n",
            "102    0.200000\n",
            "103    0.639020\n",
            "Name: RANK, Length: 104, dtype: float64\n"
          ]
        }
      ],
      "source": [
        "X['RANK'] =  X['Connection_Score_Sim'] + X['similarity2_WV']\n",
        "\n",
        "print(X['RANK'])"
      ]
    },
    {
      "cell_type": "code",
      "execution_count": 34,
      "metadata": {
        "colab": {
          "base_uri": "https://localhost:8080/"
        },
        "id": "rh-VkDXXP08s",
        "outputId": "398fb244-8dcc-42cc-8081-ca849e8e2ff6"
      },
      "outputs": [
        {
          "output_type": "stream",
          "name": "stdout",
          "text": [
            "      id                                          job_title  \\\n",
            "0      1  2019 C.T. Bauer College of Business Graduate (...   \n",
            "1      2  Native English Teacher at EPIK (English Progra...   \n",
            "2      3              Aspiring Human Resources Professional   \n",
            "3      4             People Development Coordinator at Ryan   \n",
            "4      5    Advisory Board Member at Celal Bayar University   \n",
            "..   ...                                                ...   \n",
            "99   100  Aspiring Human Resources Manager | Graduating ...   \n",
            "100  101              Human Resources Generalist at Loparex   \n",
            "101  102   Business Intelligence and Analytics at Travelers   \n",
            "102  103                     Always set them up for Success   \n",
            "103  104   Director Of Administration at Excellence Logging   \n",
            "\n",
            "                                location  connection  \\\n",
            "0                         Houston, Texas          85   \n",
            "1                                 Kanada         500   \n",
            "2    Raleigh-Durham, North Carolina Area          44   \n",
            "3                          Denton, Texas         500   \n",
            "4                         İzmir, Türkiye         500   \n",
            "..                                   ...         ...   \n",
            "99              Cape Girardeau, Missouri         103   \n",
            "100  Raleigh-Durham, North Carolina Area         500   \n",
            "101           Greater New York City Area          49   \n",
            "102             Greater Los Angeles Area         500   \n",
            "103                          Katy, Texas         500   \n",
            "\n",
            "                                       embedding_Score  similarity_BERT  \\\n",
            "0    [-0.8347963094711304, 0.7061929106712341, 1.41...         0.497849   \n",
            "1    [-1.104153037071228, 0.6818210482597351, 0.480...         0.372279   \n",
            "2    [0.46927931904792786, 0.28294771909713745, 2.3...         0.927214   \n",
            "3    [-0.6027138829231262, -0.19602417945861816, 1....         0.705831   \n",
            "4    [-0.0554780475795269, -0.19447144865989685, 1....         0.463202   \n",
            "..                                                 ...              ...   \n",
            "99   [-0.5095099806785583, 0.2794764041900635, 1.60...         0.500861   \n",
            "100  [0.27189886569976807, 0.0620465949177742, 1.32...         0.609300   \n",
            "101  [-0.5368142127990723, 0.6071471571922302, 1.69...         0.455116   \n",
            "102  [0.12111373245716095, -0.07036970555782318, 2....         0.618959   \n",
            "103  [-0.9533588290214539, 0.9029397964477539, 1.01...         0.488342   \n",
            "\n",
            "                    sentence1                sentence2  \\\n",
            "0    aspiring human resources  seeking human resources   \n",
            "1    aspiring human resources  seeking human resources   \n",
            "2    aspiring human resources  seeking human resources   \n",
            "3    aspiring human resources  seeking human resources   \n",
            "4    aspiring human resources  seeking human resources   \n",
            "..                        ...                      ...   \n",
            "99   aspiring human resources  seeking human resources   \n",
            "100  aspiring human resources  seeking human resources   \n",
            "101  aspiring human resources  seeking human resources   \n",
            "102  aspiring human resources  seeking human resources   \n",
            "103  aspiring human resources  seeking human resources   \n",
            "\n",
            "                                      embedding_Score1  \\\n",
            "0    [0.4868333339691162, -0.05931630730628967, 2.5...   \n",
            "1    [0.4868333339691162, -0.05931630730628967, 2.5...   \n",
            "2    [0.4868333339691162, -0.05931630730628967, 2.5...   \n",
            "3    [0.4868333339691162, -0.05931630730628967, 2.5...   \n",
            "4    [0.4868333339691162, -0.05931630730628967, 2.5...   \n",
            "..                                                 ...   \n",
            "99   [0.4868333339691162, -0.05931630730628967, 2.5...   \n",
            "100  [0.4868333339691162, -0.05931630730628967, 2.5...   \n",
            "101  [0.4868333339691162, -0.05931630730628967, 2.5...   \n",
            "102  [0.4868331849575043, -0.05931580066680908, 2.5...   \n",
            "103  [0.4868331849575043, -0.05931580066680908, 2.5...   \n",
            "\n",
            "                                      embedding_Score2  ...  \\\n",
            "0    [0.5429046750068665, -0.4305378496646881, 2.26...  ...   \n",
            "1    [0.5429046750068665, -0.4305378496646881, 2.26...  ...   \n",
            "2    [0.5429046750068665, -0.4305378496646881, 2.26...  ...   \n",
            "3    [0.5429046750068665, -0.4305378496646881, 2.26...  ...   \n",
            "4    [0.5429046750068665, -0.4305378496646881, 2.26...  ...   \n",
            "..                                                 ...  ...   \n",
            "99   [0.5429046750068665, -0.4305378496646881, 2.26...  ...   \n",
            "100  [0.5429046750068665, -0.4305378496646881, 2.26...  ...   \n",
            "101  [0.5429046750068665, -0.4305378496646881, 2.26...  ...   \n",
            "102  [0.5429045557975769, -0.4305381774902344, 2.26...  ...   \n",
            "103  [0.5429045557975769, -0.4305381774902344, 2.26...  ...   \n",
            "\n",
            "          preprocessed_sentences1      preprocessed_sentences2  \\\n",
            "0    [aspiring, human, resources]  [seeking, human, resources]   \n",
            "1    [aspiring, human, resources]  [seeking, human, resources]   \n",
            "2    [aspiring, human, resources]  [seeking, human, resources]   \n",
            "3    [aspiring, human, resources]  [seeking, human, resources]   \n",
            "4    [aspiring, human, resources]  [seeking, human, resources]   \n",
            "..                            ...                          ...   \n",
            "99   [aspiring, human, resources]  [seeking, human, resources]   \n",
            "100  [aspiring, human, resources]  [seeking, human, resources]   \n",
            "101  [aspiring, human, resources]  [seeking, human, resources]   \n",
            "102  [aspiring, human, resources]  [seeking, human, resources]   \n",
            "103  [aspiring, human, resources]  [seeking, human, resources]   \n",
            "\n",
            "                                    embedding_Score_wv  \\\n",
            "0    [[0.002595889, 0.00079695194, -0.0024799095, 0...   \n",
            "1    [[0.008391553, -0.0006160744, -0.009428633, 0....   \n",
            "2    [[-0.008181947, 0.009294008, -0.00019996222, -...   \n",
            "3    [[-0.002502422, -0.005902345, 0.0074884333, -0...   \n",
            "4    [[0.00015559199, 0.0030287697, -0.0068114116, ...   \n",
            "..                                                 ...   \n",
            "99   [[-0.008181947, 0.009294008, -0.00019996222, -...   \n",
            "100  [[-0.008571673, 0.003667446, 0.005239203, 0.00...   \n",
            "101  [[-0.0070810243, 0.0012273943, -0.0071687517, ...   \n",
            "102                                                 []   \n",
            "103  [[-0.0018622689, -0.0052930173, 0.009443407, -...   \n",
            "\n",
            "                                   embedding_Score_wv1  \\\n",
            "0    [[9.1554895e-05, 0.003080944, -0.0068162284, -...   \n",
            "1    [[9.1554895e-05, 0.003080944, -0.0068162284, -...   \n",
            "2    [[9.1554895e-05, 0.003080944, -0.0068162284, -...   \n",
            "3    [[9.1554895e-05, 0.003080944, -0.0068162284, -...   \n",
            "4    [[9.1554895e-05, 0.003080944, -0.0068162284, -...   \n",
            "..                                                 ...   \n",
            "99   [[9.1554895e-05, 0.003080944, -0.0068162284, -...   \n",
            "100  [[9.1554895e-05, 0.003080944, -0.0068162284, -...   \n",
            "101  [[9.1554895e-05, 0.003080944, -0.0068162284, -...   \n",
            "102  [[9.1554895e-05, 0.003080944, -0.0068162284, -...   \n",
            "103  [[9.1554895e-05, 0.003080944, -0.0068162284, -...   \n",
            "\n",
            "                                   embedding_Score_wv2 similarity_WV  \\\n",
            "0    [[9.1554895e-05, 0.003080944, -0.0068162284, -...      0.540846   \n",
            "1    [[9.1554895e-05, 0.003080944, -0.0068162284, -...      0.302231   \n",
            "2    [[9.1554895e-05, 0.003080944, -0.0068162284, -...      0.550846   \n",
            "3    [[9.1554895e-05, 0.003080944, -0.0068162284, -...      0.170910   \n",
            "4    [[9.1554895e-05, 0.003080944, -0.0068162284, -...      0.339880   \n",
            "..                                                 ...           ...   \n",
            "99   [[9.1554895e-05, 0.003080944, -0.0068162284, -...      0.631050   \n",
            "100  [[9.1554895e-05, 0.003080944, -0.0068162284, -...      0.873759   \n",
            "101  [[9.1554895e-05, 0.003080944, -0.0068162284, -...      0.424262   \n",
            "102  [[9.1554895e-05, 0.003080944, -0.0068162284, -...      0.000000   \n",
            "103  [[9.1554895e-05, 0.003080944, -0.0068162284, -...      0.439020   \n",
            "\n",
            "    similarity2_WV  Connection_Score  Connection_Score_Sim      RANK  \n",
            "0         0.540846          0.168337              0.033667  0.574513  \n",
            "1         0.302231          1.000000              0.200000  0.502231  \n",
            "2         0.550846          0.086172              0.017234  0.568080  \n",
            "3         0.170910          1.000000              0.200000  0.370910  \n",
            "4         0.339880          1.000000              0.200000  0.539880  \n",
            "..             ...               ...                   ...       ...  \n",
            "99        0.631050          0.204409              0.040882  0.671932  \n",
            "100       0.873759          1.000000              0.200000  1.073759  \n",
            "101       0.424262          0.096192              0.019238  0.443501  \n",
            "102       0.000000          1.000000              0.200000  0.200000  \n",
            "103       0.439020          1.000000              0.200000  0.639020  \n",
            "\n",
            "[104 rows x 22 columns]\n"
          ]
        }
      ],
      "source": [
        "print(X)"
      ]
    },
    {
      "cell_type": "markdown",
      "metadata": {
        "id": "FRuGW4JqP08t"
      },
      "source": [
        "## Sorting based on Rank column"
      ]
    },
    {
      "cell_type": "code",
      "execution_count": 35,
      "metadata": {
        "colab": {
          "base_uri": "https://localhost:8080/"
        },
        "id": "t5wsOZjhP08t",
        "outputId": "5045e280-9147-4c67-9b0f-8d5fb1c9dbcf"
      },
      "outputs": [
        {
          "output_type": "stream",
          "name": "stdout",
          "text": [
            "      id                                          job_title  \\\n",
            "88    89                    Director Human Resources  at EY   \n",
            "67    68            Human Resources Specialist at Luxottica   \n",
            "77    78             Human Resources Generalist at Schwan's   \n",
            "100  101              Human Resources Generalist at Loparex   \n",
            "70    71    Human Resources Generalist at ScottMadden, Inc.   \n",
            "12    13  Human Resources Coordinator at InterContinenta...   \n",
            "64    65  Human Resources Coordinator at InterContinenta...   \n",
            "42    43  Human Resources Coordinator at InterContinenta...   \n",
            "55    56  Human Resources Coordinator at InterContinenta...   \n",
            "80    81  Senior Human Resources Business Partner at Hei...   \n",
            "68    69  Director of Human Resources North America, Gro...   \n",
            "74    75  Nortia Staffing is seeking Human Resources, Pa...   \n",
            "27    28              Seeking Human Resources Opportunities   \n",
            "29    30              Seeking Human Resources Opportunities   \n",
            "52    53  Seeking Human Resources HRIS and Generalist Po...   \n",
            "9     10  Seeking Human Resources HRIS and Generalist Po...   \n",
            "39    40  Seeking Human Resources HRIS and Generalist Po...   \n",
            "61    62  Seeking Human Resources HRIS and Generalist Po...   \n",
            "66    67  Human Resources, Staffing and Recruiting Profe...   \n",
            "93    94  Seeking Human  Resources Opportunities. Open t...   \n",
            "\n",
            "                                location  connection  \\\n",
            "88                  Greater Atlanta Area         349   \n",
            "67            Greater New York City Area         500   \n",
            "77           Amerika Birleşik Devletleri         500   \n",
            "100  Raleigh-Durham, North Carolina Area         500   \n",
            "70   Raleigh-Durham, North Carolina Area         500   \n",
            "12                      Atlanta, Georgia         500   \n",
            "64                      Atlanta, Georgia         500   \n",
            "42                      Atlanta, Georgia         500   \n",
            "55                      Atlanta, Georgia         500   \n",
            "80           Chattanooga, Tennessee Area         455   \n",
            "68   Greater Grand Rapids, Michigan Area         500   \n",
            "74                  San Jose, California         500   \n",
            "27                     Chicago, Illinois         390   \n",
            "29                     Chicago, Illinois         390   \n",
            "52             Greater Philadelphia Area         500   \n",
            "9              Greater Philadelphia Area         500   \n",
            "39             Greater Philadelphia Area         500   \n",
            "61             Greater Philadelphia Area         500   \n",
            "66             Jackson, Mississippi Area         500   \n",
            "93           Amerika Birleşik Devletleri         415   \n",
            "\n",
            "                                       embedding_Score  similarity_BERT  \\\n",
            "88   [-0.20814208686351776, 0.10351033508777618, 1....         0.703597   \n",
            "67   [0.27709686756134033, -0.2612956464290619, 1.5...         0.695385   \n",
            "77   [0.10226384550333023, 0.4438651502132416, 1.09...         0.538165   \n",
            "100  [0.27189886569976807, 0.0620465949177742, 1.32...         0.609300   \n",
            "70   [-0.13560885190963745, 0.42564502358436584, 0....         0.541580   \n",
            "12   [-0.17288677394390106, 0.12207289785146713, 1....         0.397198   \n",
            "64   [-0.17288677394390106, 0.12207289785146713, 1....         0.397198   \n",
            "42   [-0.17288677394390106, 0.12207289785146713, 1....         0.397198   \n",
            "55   [-0.17288677394390106, 0.12207289785146713, 1....         0.397198   \n",
            "80   [-0.29614344239234924, 0.7688664793968201, 0.5...         0.481321   \n",
            "68   [-0.42870086431503296, 0.530488908290863, 0.88...         0.449158   \n",
            "74   [-0.0015464103780686855, 1.1483756303787231, 1...         0.544203   \n",
            "27   [0.5526587963104248, -0.31996288895606995, 2.0...         0.833713   \n",
            "29   [0.5526587963104248, -0.31996288895606995, 2.0...         0.833713   \n",
            "52   [0.2839699387550354, 0.15363478660583496, 1.90...         0.764407   \n",
            "9    [0.2839699387550354, 0.15363478660583496, 1.90...         0.764407   \n",
            "39   [0.2839699387550354, 0.15363478660583496, 1.90...         0.764407   \n",
            "61   [0.2839699387550354, 0.15363478660583496, 1.90...         0.764407   \n",
            "66   [0.49948936700820923, 0.7906510829925537, 1.80...         0.751283   \n",
            "93   [0.28924793004989624, -0.04666987434029579, 2....         0.670539   \n",
            "\n",
            "                    sentence1                sentence2  \\\n",
            "88   aspiring human resources  seeking human resources   \n",
            "67   aspiring human resources  seeking human resources   \n",
            "77   aspiring human resources  seeking human resources   \n",
            "100  aspiring human resources  seeking human resources   \n",
            "70   aspiring human resources  seeking human resources   \n",
            "12   aspiring human resources  seeking human resources   \n",
            "64   aspiring human resources  seeking human resources   \n",
            "42   aspiring human resources  seeking human resources   \n",
            "55   aspiring human resources  seeking human resources   \n",
            "80   aspiring human resources  seeking human resources   \n",
            "68   aspiring human resources  seeking human resources   \n",
            "74   aspiring human resources  seeking human resources   \n",
            "27   aspiring human resources  seeking human resources   \n",
            "29   aspiring human resources  seeking human resources   \n",
            "52   aspiring human resources  seeking human resources   \n",
            "9    aspiring human resources  seeking human resources   \n",
            "39   aspiring human resources  seeking human resources   \n",
            "61   aspiring human resources  seeking human resources   \n",
            "66   aspiring human resources  seeking human resources   \n",
            "93   aspiring human resources  seeking human resources   \n",
            "\n",
            "                                      embedding_Score1  \\\n",
            "88   [0.4868333339691162, -0.05931630730628967, 2.5...   \n",
            "67   [0.4868333339691162, -0.05931630730628967, 2.5...   \n",
            "77   [0.4868333339691162, -0.05931630730628967, 2.5...   \n",
            "100  [0.4868333339691162, -0.05931630730628967, 2.5...   \n",
            "70   [0.4868333339691162, -0.05931630730628967, 2.5...   \n",
            "12   [0.4868333339691162, -0.05931630730628967, 2.5...   \n",
            "64   [0.4868333339691162, -0.05931630730628967, 2.5...   \n",
            "42   [0.4868333339691162, -0.05931630730628967, 2.5...   \n",
            "55   [0.4868333339691162, -0.05931630730628967, 2.5...   \n",
            "80   [0.4868333339691162, -0.05931630730628967, 2.5...   \n",
            "68   [0.4868333339691162, -0.05931630730628967, 2.5...   \n",
            "74   [0.4868333339691162, -0.05931630730628967, 2.5...   \n",
            "27   [0.4868331849575043, -0.05931580066680908, 2.5...   \n",
            "29   [0.4868331849575043, -0.05931580066680908, 2.5...   \n",
            "52   [0.4868333339691162, -0.05931630730628967, 2.5...   \n",
            "9    [0.4868333339691162, -0.05931630730628967, 2.5...   \n",
            "39   [0.4868333339691162, -0.05931630730628967, 2.5...   \n",
            "61   [0.4868333339691162, -0.05931630730628967, 2.5...   \n",
            "66   [0.4868333339691162, -0.05931630730628967, 2.5...   \n",
            "93   [0.4868333339691162, -0.05931630730628967, 2.5...   \n",
            "\n",
            "                                      embedding_Score2  ...  \\\n",
            "88   [0.5429046750068665, -0.4305378496646881, 2.26...  ...   \n",
            "67   [0.5429046750068665, -0.4305378496646881, 2.26...  ...   \n",
            "77   [0.5429046750068665, -0.4305378496646881, 2.26...  ...   \n",
            "100  [0.5429046750068665, -0.4305378496646881, 2.26...  ...   \n",
            "70   [0.5429046750068665, -0.4305378496646881, 2.26...  ...   \n",
            "12   [0.5429046750068665, -0.4305378496646881, 2.26...  ...   \n",
            "64   [0.5429046750068665, -0.4305378496646881, 2.26...  ...   \n",
            "42   [0.5429046750068665, -0.4305378496646881, 2.26...  ...   \n",
            "55   [0.5429046750068665, -0.4305378496646881, 2.26...  ...   \n",
            "80   [0.5429046750068665, -0.4305378496646881, 2.26...  ...   \n",
            "68   [0.5429046750068665, -0.4305378496646881, 2.26...  ...   \n",
            "74   [0.5429046750068665, -0.4305378496646881, 2.26...  ...   \n",
            "27   [0.5429045557975769, -0.4305381774902344, 2.26...  ...   \n",
            "29   [0.5429045557975769, -0.4305381774902344, 2.26...  ...   \n",
            "52   [0.5429046750068665, -0.4305378496646881, 2.26...  ...   \n",
            "9    [0.5429046750068665, -0.4305378496646881, 2.26...  ...   \n",
            "39   [0.5429046750068665, -0.4305378496646881, 2.26...  ...   \n",
            "61   [0.5429046750068665, -0.4305378496646881, 2.26...  ...   \n",
            "66   [0.5429046750068665, -0.4305378496646881, 2.26...  ...   \n",
            "93   [0.5429046750068665, -0.4305378496646881, 2.26...  ...   \n",
            "\n",
            "          preprocessed_sentences1      preprocessed_sentences2  \\\n",
            "88   [aspiring, human, resources]  [seeking, human, resources]   \n",
            "67   [aspiring, human, resources]  [seeking, human, resources]   \n",
            "77   [aspiring, human, resources]  [seeking, human, resources]   \n",
            "100  [aspiring, human, resources]  [seeking, human, resources]   \n",
            "70   [aspiring, human, resources]  [seeking, human, resources]   \n",
            "12   [aspiring, human, resources]  [seeking, human, resources]   \n",
            "64   [aspiring, human, resources]  [seeking, human, resources]   \n",
            "42   [aspiring, human, resources]  [seeking, human, resources]   \n",
            "55   [aspiring, human, resources]  [seeking, human, resources]   \n",
            "80   [aspiring, human, resources]  [seeking, human, resources]   \n",
            "68   [aspiring, human, resources]  [seeking, human, resources]   \n",
            "74   [aspiring, human, resources]  [seeking, human, resources]   \n",
            "27   [aspiring, human, resources]  [seeking, human, resources]   \n",
            "29   [aspiring, human, resources]  [seeking, human, resources]   \n",
            "52   [aspiring, human, resources]  [seeking, human, resources]   \n",
            "9    [aspiring, human, resources]  [seeking, human, resources]   \n",
            "39   [aspiring, human, resources]  [seeking, human, resources]   \n",
            "61   [aspiring, human, resources]  [seeking, human, resources]   \n",
            "66   [aspiring, human, resources]  [seeking, human, resources]   \n",
            "93   [aspiring, human, resources]  [seeking, human, resources]   \n",
            "\n",
            "                                    embedding_Score_wv  \\\n",
            "88   [[-0.008571673, 0.003667446, 0.005239203, 0.00...   \n",
            "67   [[-0.008571673, 0.003667446, 0.005239203, 0.00...   \n",
            "77   [[-0.008571673, 0.003667446, 0.005239203, 0.00...   \n",
            "100  [[-0.008571673, 0.003667446, 0.005239203, 0.00...   \n",
            "70   [[-0.008571673, 0.003667446, 0.005239203, 0.00...   \n",
            "12   [[-0.008571673, 0.003667446, 0.005239203, 0.00...   \n",
            "64   [[-0.008571673, 0.003667446, 0.005239203, 0.00...   \n",
            "42   [[-0.008571673, 0.003667446, 0.005239203, 0.00...   \n",
            "55   [[-0.008571673, 0.003667446, 0.005239203, 0.00...   \n",
            "80   [[-0.006968084, -0.0024517968, -0.008010712, 0...   \n",
            "68   [[-0.0018622689, -0.0052930173, 0.009443407, -...   \n",
            "74   [[0.00818617, -0.00445809, 0.009014067, 0.0083...   \n",
            "27   [[0.00818617, -0.00445809, 0.009014067, 0.0083...   \n",
            "29   [[0.00818617, -0.00445809, 0.009014067, 0.0083...   \n",
            "52   [[0.00818617, -0.00445809, 0.009014067, 0.0083...   \n",
            "9    [[0.00818617, -0.00445809, 0.009014067, 0.0083...   \n",
            "39   [[0.00818617, -0.00445809, 0.009014067, 0.0083...   \n",
            "61   [[0.00818617, -0.00445809, 0.009014067, 0.0083...   \n",
            "66   [[-0.008571673, 0.003667446, 0.005239203, 0.00...   \n",
            "93   [[0.00818617, -0.00445809, 0.009014067, 0.0083...   \n",
            "\n",
            "                                   embedding_Score_wv1  \\\n",
            "88   [[9.1554895e-05, 0.003080944, -0.0068162284, -...   \n",
            "67   [[9.1554895e-05, 0.003080944, -0.0068162284, -...   \n",
            "77   [[9.1554895e-05, 0.003080944, -0.0068162284, -...   \n",
            "100  [[9.1554895e-05, 0.003080944, -0.0068162284, -...   \n",
            "70   [[9.1554895e-05, 0.003080944, -0.0068162284, -...   \n",
            "12   [[9.1554895e-05, 0.003080944, -0.0068162284, -...   \n",
            "64   [[9.1554895e-05, 0.003080944, -0.0068162284, -...   \n",
            "42   [[9.1554895e-05, 0.003080944, -0.0068162284, -...   \n",
            "55   [[9.1554895e-05, 0.003080944, -0.0068162284, -...   \n",
            "80   [[9.1554895e-05, 0.003080944, -0.0068162284, -...   \n",
            "68   [[9.1554895e-05, 0.003080944, -0.0068162284, -...   \n",
            "74   [[9.1554895e-05, 0.003080944, -0.0068162284, -...   \n",
            "27   [[9.1554895e-05, 0.003080944, -0.0068162284, -...   \n",
            "29   [[9.1554895e-05, 0.003080944, -0.0068162284, -...   \n",
            "52   [[9.1554895e-05, 0.003080944, -0.0068162284, -...   \n",
            "9    [[9.1554895e-05, 0.003080944, -0.0068162284, -...   \n",
            "39   [[9.1554895e-05, 0.003080944, -0.0068162284, -...   \n",
            "61   [[9.1554895e-05, 0.003080944, -0.0068162284, -...   \n",
            "66   [[9.1554895e-05, 0.003080944, -0.0068162284, -...   \n",
            "93   [[9.1554895e-05, 0.003080944, -0.0068162284, -...   \n",
            "\n",
            "                                   embedding_Score_wv2 similarity_WV  \\\n",
            "88   [[9.1554895e-05, 0.003080944, -0.0068162284, -...      0.999089   \n",
            "67   [[9.1554895e-05, 0.003080944, -0.0068162284, -...      0.891461   \n",
            "77   [[9.1554895e-05, 0.003080944, -0.0068162284, -...      0.873759   \n",
            "100  [[9.1554895e-05, 0.003080944, -0.0068162284, -...      0.873759   \n",
            "70   [[9.1554895e-05, 0.003080944, -0.0068162284, -...      0.873759   \n",
            "12   [[9.1554895e-05, 0.003080944, -0.0068162284, -...      0.852381   \n",
            "64   [[9.1554895e-05, 0.003080944, -0.0068162284, -...      0.852381   \n",
            "42   [[9.1554895e-05, 0.003080944, -0.0068162284, -...      0.852381   \n",
            "55   [[9.1554895e-05, 0.003080944, -0.0068162284, -...      0.852381   \n",
            "80   [[9.1554895e-05, 0.003080944, -0.0068162284, -...      0.858983   \n",
            "68   [[9.1554895e-05, 0.003080944, -0.0068162284, -...      0.690951   \n",
            "74   [[9.1554895e-05, 0.003080944, -0.0068162284, -...      0.667911   \n",
            "27   [[9.1554895e-05, 0.003080944, -0.0068162284, -...      0.667911   \n",
            "29   [[9.1554895e-05, 0.003080944, -0.0068162284, -...      0.667911   \n",
            "52   [[9.1554895e-05, 0.003080944, -0.0068162284, -...      0.604845   \n",
            "9    [[9.1554895e-05, 0.003080944, -0.0068162284, -...      0.604845   \n",
            "39   [[9.1554895e-05, 0.003080944, -0.0068162284, -...      0.604845   \n",
            "61   [[9.1554895e-05, 0.003080944, -0.0068162284, -...      0.604845   \n",
            "66   [[9.1554895e-05, 0.003080944, -0.0068162284, -...      0.602378   \n",
            "93   [[9.1554895e-05, 0.003080944, -0.0068162284, -...      0.628742   \n",
            "\n",
            "    similarity2_WV  Connection_Score  Connection_Score_Sim      RANK  \n",
            "88        0.999089          0.697395              0.139479  1.138568  \n",
            "67        0.891461          1.000000              0.200000  1.091461  \n",
            "77        0.873759          1.000000              0.200000  1.073759  \n",
            "100       0.873759          1.000000              0.200000  1.073759  \n",
            "70        0.873759          1.000000              0.200000  1.073759  \n",
            "12        0.852381          1.000000              0.200000  1.052381  \n",
            "64        0.852381          1.000000              0.200000  1.052381  \n",
            "42        0.852381          1.000000              0.200000  1.052381  \n",
            "55        0.852381          1.000000              0.200000  1.052381  \n",
            "80        0.858983          0.909820              0.181964  1.040947  \n",
            "68        0.690951          1.000000              0.200000  0.890951  \n",
            "74        0.667911          1.000000              0.200000  0.867911  \n",
            "27        0.667911          0.779559              0.155912  0.823823  \n",
            "29        0.667911          0.779559              0.155912  0.823823  \n",
            "52        0.604845          1.000000              0.200000  0.804845  \n",
            "9         0.604845          1.000000              0.200000  0.804845  \n",
            "39        0.604845          1.000000              0.200000  0.804845  \n",
            "61        0.604845          1.000000              0.200000  0.804845  \n",
            "66        0.602378          1.000000              0.200000  0.802378  \n",
            "93        0.628742          0.829659              0.165932  0.794673  \n",
            "\n",
            "[20 rows x 22 columns]\n"
          ]
        }
      ],
      "source": [
        "# Sort DataFrame based on the 'age' column\n",
        "X= X.sort_values('RANK', ascending = False)\n",
        "\n",
        "# Print the sorted DataFrame\n",
        "print(X.head(20))"
      ]
    },
    {
      "cell_type": "code",
      "execution_count": 36,
      "metadata": {
        "colab": {
          "base_uri": "https://localhost:8080/"
        },
        "id": "gHL5FFTsP08u",
        "outputId": "904cdd74-54b0-41c4-af0e-686d8ae71581"
      },
      "outputs": [
        {
          "output_type": "stream",
          "name": "stdout",
          "text": [
            "88     1\n",
            "67     1\n",
            "77     1\n",
            "100    1\n",
            "70     1\n",
            "      ..\n",
            "85     0\n",
            "86     0\n",
            "97     0\n",
            "79     0\n",
            "91     0\n",
            "Name: TargetRank, Length: 104, dtype: int64\n"
          ]
        }
      ],
      "source": [
        "X['TargetRank'] = 0\n",
        "\n",
        "top_count = 5\n",
        "\n",
        "X.loc[:top_count - 1, 'TargetRank'] = 1\n",
        "\n",
        "print(X['TargetRank'])"
      ]
    },
    {
      "cell_type": "code",
      "execution_count": 37,
      "metadata": {
        "id": "tUPeirscP08v"
      },
      "outputs": [],
      "source": [
        "y = X['TargetRank']\n"
      ]
    },
    {
      "cell_type": "code",
      "source": [
        "X = X.iloc[:, 1:-1]"
      ],
      "metadata": {
        "id": "H6B5587esABi"
      },
      "execution_count": 38,
      "outputs": []
    },
    {
      "cell_type": "code",
      "source": [
        "print(X)"
      ],
      "metadata": {
        "colab": {
          "base_uri": "https://localhost:8080/"
        },
        "id": "lAdLn_husD6k",
        "outputId": "f69d30c6-27f4-40f1-ed4d-c4b2f09a80d0"
      },
      "execution_count": 39,
      "outputs": [
        {
          "output_type": "stream",
          "name": "stdout",
          "text": [
            "                                             job_title  \\\n",
            "88                     Director Human Resources  at EY   \n",
            "67             Human Resources Specialist at Luxottica   \n",
            "100              Human Resources Generalist at Loparex   \n",
            "77              Human Resources Generalist at Schwan's   \n",
            "70     Human Resources Generalist at ScottMadden, Inc.   \n",
            "..                                                 ...   \n",
            "85   Information Systems Specialist and Programmer ...   \n",
            "86   Bachelor of Science in Biology from Victoria U...   \n",
            "97                                             Student   \n",
            "79            Junior MES Engineer| Information Systems   \n",
            "91   Seeking employment opportunities within Custom...   \n",
            "\n",
            "                                location  connection  \\\n",
            "88                  Greater Atlanta Area         349   \n",
            "67            Greater New York City Area         500   \n",
            "100  Raleigh-Durham, North Carolina Area         500   \n",
            "77           Amerika Birleşik Devletleri         500   \n",
            "70   Raleigh-Durham, North Carolina Area         500   \n",
            "..                                   ...         ...   \n",
            "85                Gaithersburg, Maryland           4   \n",
            "86                   Baltimore, Maryland          40   \n",
            "97                   Houston, Texas Area           4   \n",
            "79     Myrtle Beach, South Carolina Area          52   \n",
            "91                  Torrance, California          64   \n",
            "\n",
            "                                       embedding_Score  similarity_BERT  \\\n",
            "88   [-0.20814208686351776, 0.10351033508777618, 1....         0.703597   \n",
            "67   [0.27709686756134033, -0.2612956464290619, 1.5...         0.695385   \n",
            "100  [0.27189886569976807, 0.0620465949177742, 1.32...         0.609300   \n",
            "77   [0.10226384550333023, 0.4438651502132416, 1.09...         0.538165   \n",
            "70   [-0.1356087177991867, 0.4256448745727539, 0.91...         0.541580   \n",
            "..                                                 ...              ...   \n",
            "85   [-0.5572341084480286, 0.17965418100357056, 1.4...         0.509713   \n",
            "86   [0.13616317510604858, 0.37134385108947754, -0....         0.086293   \n",
            "97   [-0.18184371292591095, -0.2665327787399292, 1....         0.654689   \n",
            "79   [-0.46087488532066345, 0.550455629825592, 1.50...         0.565178   \n",
            "91   [0.5440707802772522, 0.33399698138237, 2.22052...         0.628300   \n",
            "\n",
            "                    sentence1                sentence2  \\\n",
            "88   aspiring human resources  seeking human resources   \n",
            "67   aspiring human resources  seeking human resources   \n",
            "100  aspiring human resources  seeking human resources   \n",
            "77   aspiring human resources  seeking human resources   \n",
            "70   aspiring human resources  seeking human resources   \n",
            "..                        ...                      ...   \n",
            "85   aspiring human resources  seeking human resources   \n",
            "86   aspiring human resources  seeking human resources   \n",
            "97   aspiring human resources  seeking human resources   \n",
            "79   aspiring human resources  seeking human resources   \n",
            "91   aspiring human resources  seeking human resources   \n",
            "\n",
            "                                      embedding_Score1  \\\n",
            "88   [0.4868334233760834, -0.05931602045893669, 2.5...   \n",
            "67   [0.4868334233760834, -0.05931602045893669, 2.5...   \n",
            "100  [0.4868334233760834, -0.05931602045893669, 2.5...   \n",
            "77   [0.4868334233760834, -0.05931602045893669, 2.5...   \n",
            "70   [0.4868334233760834, -0.05931602045893669, 2.5...   \n",
            "..                                                 ...   \n",
            "85   [0.4868334233760834, -0.05931602045893669, 2.5...   \n",
            "86   [0.4868334233760834, -0.05931602045893669, 2.5...   \n",
            "97   [0.4868334233760834, -0.05931602045893669, 2.5...   \n",
            "79   [0.4868334233760834, -0.05931602045893669, 2.5...   \n",
            "91   [0.4868334233760834, -0.05931602045893669, 2.5...   \n",
            "\n",
            "                                      embedding_Score2  similarity2_BERT  ...  \\\n",
            "88   [0.5429044961929321, -0.4305383563041687, 2.26...          0.706972  ...   \n",
            "67   [0.5429044961929321, -0.4305383563041687, 2.26...          0.712857  ...   \n",
            "100  [0.5429044961929321, -0.4305383563041687, 2.26...          0.650529  ...   \n",
            "77   [0.5429044961929321, -0.4305383563041687, 2.26...          0.592856  ...   \n",
            "70   [0.5429044961929321, -0.4305383563041687, 2.26...          0.513893  ...   \n",
            "..                                                 ...               ...  ...   \n",
            "85   [0.5429044961929321, -0.4305383563041687, 2.26...          0.514142  ...   \n",
            "86   [0.5429044961929321, -0.4305383563041687, 2.26...          0.025089  ...   \n",
            "97   [0.5429044961929321, -0.4305383563041687, 2.26...          0.588232  ...   \n",
            "79   [0.5429044961929321, -0.4305383563041687, 2.26...          0.376344  ...   \n",
            "91   [0.5429044961929321, -0.4305383563041687, 2.26...          0.694014  ...   \n",
            "\n",
            "         preprocessed_sentences2  \\\n",
            "88   [seeking, human, resources]   \n",
            "67   [seeking, human, resources]   \n",
            "100  [seeking, human, resources]   \n",
            "77   [seeking, human, resources]   \n",
            "70   [seeking, human, resources]   \n",
            "..                           ...   \n",
            "85   [seeking, human, resources]   \n",
            "86   [seeking, human, resources]   \n",
            "97   [seeking, human, resources]   \n",
            "79   [seeking, human, resources]   \n",
            "91   [seeking, human, resources]   \n",
            "\n",
            "                                    embedding_Score_wv  \\\n",
            "88   [[-0.008571673, 0.003667446, 0.005239203, 0.00...   \n",
            "67   [[-0.008571673, 0.003667446, 0.005239203, 0.00...   \n",
            "100  [[-0.008571673, 0.003667446, 0.005239203, 0.00...   \n",
            "77   [[-0.008571673, 0.003667446, 0.005239203, 0.00...   \n",
            "70   [[-0.008571673, 0.003667446, 0.005239203, 0.00...   \n",
            "..                                                 ...   \n",
            "85   [[0.009775909, 0.00816684, 0.0012790264, 0.005...   \n",
            "86   [[-0.0018622689, -0.0052930173, 0.009443407, -...   \n",
            "97   [[0.008170695, -0.004483103, -0.0010694218, 0....   \n",
            "79                                                  []   \n",
            "91   [[0.00818617, -0.00445809, 0.009014067, 0.0083...   \n",
            "\n",
            "                                   embedding_Score_wv1  \\\n",
            "88   [[9.1554895e-05, 0.003080944, -0.0068162284, -...   \n",
            "67   [[9.1554895e-05, 0.003080944, -0.0068162284, -...   \n",
            "100  [[9.1554895e-05, 0.003080944, -0.0068162284, -...   \n",
            "77   [[9.1554895e-05, 0.003080944, -0.0068162284, -...   \n",
            "70   [[9.1554895e-05, 0.003080944, -0.0068162284, -...   \n",
            "..                                                 ...   \n",
            "85   [[9.1554895e-05, 0.003080944, -0.0068162284, -...   \n",
            "86   [[9.1554895e-05, 0.003080944, -0.0068162284, -...   \n",
            "97   [[9.1554895e-05, 0.003080944, -0.0068162284, -...   \n",
            "79   [[9.1554895e-05, 0.003080944, -0.0068162284, -...   \n",
            "91   [[9.1554895e-05, 0.003080944, -0.0068162284, -...   \n",
            "\n",
            "                                   embedding_Score_wv2 similarity_WV  \\\n",
            "88   [[9.1554895e-05, 0.003080944, -0.0068162284, -...      0.999089   \n",
            "67   [[9.1554895e-05, 0.003080944, -0.0068162284, -...      0.891461   \n",
            "100  [[9.1554895e-05, 0.003080944, -0.0068162284, -...      0.873759   \n",
            "77   [[9.1554895e-05, 0.003080944, -0.0068162284, -...      0.873759   \n",
            "70   [[9.1554895e-05, 0.003080944, -0.0068162284, -...      0.873759   \n",
            "..                                                 ...           ...   \n",
            "85   [[9.1554895e-05, 0.003080944, -0.0068162284, -...      0.158359   \n",
            "86   [[9.1554895e-05, 0.003080944, -0.0068162284, -...      0.077603   \n",
            "97   [[9.1554895e-05, 0.003080944, -0.0068162284, -...      0.034504   \n",
            "79   [[9.1554895e-05, 0.003080944, -0.0068162284, -...      0.000000   \n",
            "91   [[9.1554895e-05, 0.003080944, -0.0068162284, -...     -0.010583   \n",
            "\n",
            "    similarity2_WV  Connection_Score  Similarity_Score_WV  \\\n",
            "88        0.999089          0.697395             0.799271   \n",
            "67        0.891461          1.000000             0.713169   \n",
            "100       0.873759          1.000000             0.699007   \n",
            "77        0.873759          1.000000             0.699007   \n",
            "70        0.873759          1.000000             0.699007   \n",
            "..             ...               ...                  ...   \n",
            "85        0.158359          0.006012             0.126687   \n",
            "86        0.077603          0.078156             0.062082   \n",
            "97        0.034504          0.006012             0.027603   \n",
            "79        0.000000          0.102204             0.000000   \n",
            "91       -0.010583          0.126253            -0.008467   \n",
            "\n",
            "     Connection_Score_Sim      RANK  \n",
            "88               0.139479  0.938750  \n",
            "67               0.200000  0.913169  \n",
            "100              0.200000  0.899007  \n",
            "77               0.200000  0.899007  \n",
            "70               0.200000  0.899007  \n",
            "..                    ...       ...  \n",
            "85               0.001202  0.127890  \n",
            "86               0.015631  0.077714  \n",
            "97               0.001202  0.028805  \n",
            "79               0.020441  0.020441  \n",
            "91               0.025251  0.016784  \n",
            "\n",
            "[104 rows x 22 columns]\n"
          ]
        }
      ]
    },
    {
      "cell_type": "code",
      "execution_count": 39,
      "metadata": {
        "colab": {
          "base_uri": "https://localhost:8080/"
        },
        "id": "54AjT2NxP08w",
        "outputId": "876f63d2-8e6d-428d-c465-83135f0b6947"
      },
      "outputs": [
        {
          "output_type": "stream",
          "name": "stdout",
          "text": [
            "     connection  similarity_BERT  similarity2_BERT  similarity_WV  \\\n",
            "88          349         0.703597          0.706972       0.999089   \n",
            "67          500         0.695385          0.712857       0.891461   \n",
            "77          500         0.538165          0.592856       0.873759   \n",
            "100         500         0.609300          0.650529       0.873759   \n",
            "70          500         0.541580          0.513893       0.873759   \n",
            "..          ...              ...               ...            ...   \n",
            "85            4         0.509713          0.514142       0.158359   \n",
            "86           40         0.086293          0.025089       0.077603   \n",
            "97            4         0.654689          0.588232       0.034504   \n",
            "79           52         0.565178          0.376344       0.000000   \n",
            "91           64         0.628300          0.694014      -0.010583   \n",
            "\n",
            "     similarity2_WV  Connection_Score  Connection_Score_Sim      RANK  \n",
            "88         0.999089          0.697395              0.139479  1.138568  \n",
            "67         0.891461          1.000000              0.200000  1.091461  \n",
            "77         0.873759          1.000000              0.200000  1.073759  \n",
            "100        0.873759          1.000000              0.200000  1.073759  \n",
            "70         0.873759          1.000000              0.200000  1.073759  \n",
            "..              ...               ...                   ...       ...  \n",
            "85         0.158359          0.006012              0.001202  0.159562  \n",
            "86         0.077603          0.078156              0.015631  0.093234  \n",
            "97         0.034504          0.006012              0.001202  0.035706  \n",
            "79         0.000000          0.102204              0.020441  0.020441  \n",
            "91        -0.010583          0.126253              0.025251  0.014667  \n",
            "\n",
            "[104 rows x 8 columns]\n"
          ]
        }
      ],
      "source": [
        "# selecting integer and float datatypes in the dataset\n",
        "X_number = X.select_dtypes(include='number')\n",
        "\n",
        "print(X_number)"
      ]
    },
    {
      "cell_type": "code",
      "execution_count": 41,
      "metadata": {
        "colab": {
          "base_uri": "https://localhost:8080/"
        },
        "id": "qGDO5j-AP08w",
        "outputId": "a60c5d5c-216b-43df-cd79-ad45fb2e57b8"
      },
      "outputs": [
        {
          "output_type": "stream",
          "name": "stdout",
          "text": [
            "similarity2_BERT    float64\n",
            "similarity2_WV      float64\n",
            "Connection_Score    float64\n",
            "dtype: object\n",
            "     similarity2_BERT  similarity2_WV  Connection_Score\n",
            "88           0.706972        0.999089          0.697395\n",
            "67           0.712857        0.891461          1.000000\n",
            "77           0.592856        0.873759          1.000000\n",
            "100          0.650529        0.873759          1.000000\n",
            "70           0.513893        0.873759          1.000000\n",
            "..                ...             ...               ...\n",
            "85           0.514142        0.158359          0.006012\n",
            "86           0.025089        0.077603          0.078156\n",
            "97           0.588232        0.034504          0.006012\n",
            "79           0.376344        0.000000          0.102204\n",
            "91           0.694014       -0.010583          0.126253\n",
            "\n",
            "[104 rows x 3 columns]\n"
          ]
        }
      ],
      "source": [
        "# Converting the dataset to float datatype as preparing for Training\n",
        "X_number = X_number.astype(float)\n",
        "columns_to_drop = ['connection', 'RANK', 'Connection_Score_Sim','similarity_WV', 'similarity_BERT']\n",
        "X_number = X_number.drop(columns_to_drop, axis=1)\n",
        "print(X_number.dtypes)\n",
        "print(X_number)"
      ]
    },
    {
      "cell_type": "markdown",
      "metadata": {
        "id": "qb_vcgm3qZKW"
      },
      "source": [
        "## Splitting the dataset into the Training set and Test set"
      ]
    },
    {
      "cell_type": "code",
      "execution_count": 42,
      "metadata": {
        "id": "AKSop0WuP08x"
      },
      "outputs": [],
      "source": [
        "X_train, X_test, y_train, y_test= train_test_split(X_number,y, test_size = 0.2, random_state = 0)"
      ]
    },
    {
      "cell_type": "code",
      "execution_count": 43,
      "metadata": {
        "colab": {
          "base_uri": "https://localhost:8080/"
        },
        "id": "GuwQhFdKrYTM",
        "outputId": "0fbb8719-e089-414a-cf22-837461048718"
      },
      "outputs": [
        {
          "output_type": "stream",
          "name": "stdout",
          "text": [
            "     similarity2_BERT  similarity2_WV  Connection_Score\n",
            "15           0.324733        0.302231          1.000000\n",
            "100          0.650529        0.873759          1.000000\n",
            "101          0.436132        0.424262          0.096192\n",
            "95           0.126020        0.339475          0.036072\n",
            "33           0.668772        0.170910          1.000000\n",
            "..                ...             ...               ...\n",
            "86           0.025089        0.077603          0.078156\n",
            "1            0.324733        0.302231          1.000000\n",
            "34           0.468544        0.339880          1.000000\n",
            "13           0.220571        0.540846          0.168337\n",
            "76           0.611587        0.417345          0.817635\n",
            "\n",
            "[83 rows x 3 columns]\n"
          ]
        }
      ],
      "source": [
        "print(X_train)"
      ]
    },
    {
      "cell_type": "code",
      "execution_count": 44,
      "metadata": {
        "colab": {
          "base_uri": "https://localhost:8080/"
        },
        "id": "TUrX_Tvcrbi4",
        "outputId": "79f1769f-68c3-46b8-8cd6-78afd5c7d05e"
      },
      "outputs": [
        {
          "output_type": "stream",
          "name": "stdout",
          "text": [
            "    similarity2_BERT  similarity2_WV  Connection_Score\n",
            "36          0.531590        0.658947          0.120240\n",
            "81          0.597476        0.482831          0.346693\n",
            "77          0.592856        0.873759          1.000000\n",
            "47          0.468544        0.339880          1.000000\n",
            "11          0.266692        0.134636          1.000000\n",
            "14          0.220571        0.540846          0.168337\n",
            "39          0.843657        0.604845          1.000000\n",
            "85          0.514142        0.158359          0.006012\n",
            "32          0.709421        0.550846          0.086172\n",
            "96          0.709421        0.550846          0.140281\n",
            "65          0.486818        0.487325          0.112224\n",
            "60          0.537119        0.013756          1.000000\n",
            "0           0.220571        0.540846          0.168337\n",
            "29          0.969809        0.667911          0.779559\n",
            "42          0.345870        0.852381          1.000000\n",
            "73          0.795009        0.663796          0.030060\n",
            "51          0.531590        0.658947          0.120240\n",
            "38          0.531590        0.658947          0.120240\n",
            "26          0.458643        0.443738          1.000000\n",
            "55          0.345870        0.852381          1.000000\n",
            "83          0.493467        0.595887          0.098196\n"
          ]
        }
      ],
      "source": [
        "print(X_test)"
      ]
    },
    {
      "cell_type": "code",
      "execution_count": 45,
      "metadata": {
        "colab": {
          "base_uri": "https://localhost:8080/"
        },
        "id": "Bb6K2I_GP08z",
        "outputId": "294320dd-24f0-4bd7-9b5c-f7abf1625175"
      },
      "outputs": [
        {
          "output_type": "stream",
          "name": "stdout",
          "text": [
            "15     0\n",
            "100    1\n",
            "101    0\n",
            "95     0\n",
            "33     0\n",
            "      ..\n",
            "86     0\n",
            "1      0\n",
            "34     1\n",
            "13     1\n",
            "76     1\n",
            "Name: TargetRank, Length: 83, dtype: int64\n"
          ]
        }
      ],
      "source": [
        "print(y_train)"
      ]
    },
    {
      "cell_type": "code",
      "execution_count": 46,
      "metadata": {
        "id": "r9kfU_pVP081"
      },
      "outputs": [],
      "source": [
        "query_train = [X_train.shape[0]]\n",
        "query_val = [y_train.shape[0]]\n",
        "query_test = [X_test.shape[0]]"
      ]
    },
    {
      "cell_type": "markdown",
      "metadata": {
        "id": "P4L2JWILP081"
      },
      "source": [
        "## LightGBM Ranking modelling"
      ]
    },
    {
      "cell_type": "code",
      "execution_count": 47,
      "metadata": {
        "id": "I_JkM-8zP082"
      },
      "outputs": [],
      "source": [
        "gbm = lgb.LGBMRanker(boosting_type='gbdt', num_leaves=31,\n",
        "                     max_depth= -1,n_jobs=-1)"
      ]
    },
    {
      "cell_type": "code",
      "execution_count": 48,
      "metadata": {
        "colab": {
          "base_uri": "https://localhost:8080/",
          "height": 1000
        },
        "id": "LXTBPJ_yP084",
        "outputId": "e2981f6a-4dce-433b-e589-636b4239ba9c"
      },
      "outputs": [
        {
          "output_type": "stream",
          "name": "stderr",
          "text": [
            "/usr/local/lib/python3.10/dist-packages/lightgbm/sklearn.py:726: UserWarning: 'early_stopping_rounds' argument is deprecated and will be removed in a future release of LightGBM. Pass 'early_stopping()' callback via 'callbacks' argument instead.\n",
            "  _log_warning(\"'early_stopping_rounds' argument is deprecated and will be removed in a future release of LightGBM. \"\n"
          ]
        },
        {
          "output_type": "stream",
          "name": "stdout",
          "text": [
            "[1]\ttraining's ndcg@5: 1\ttraining's ndcg@10: 1\ttraining's ndcg@20: 1\n",
            "[2]\ttraining's ndcg@5: 1\ttraining's ndcg@10: 1\ttraining's ndcg@20: 1\n",
            "[3]\ttraining's ndcg@5: 1\ttraining's ndcg@10: 1\ttraining's ndcg@20: 1\n",
            "[4]\ttraining's ndcg@5: 1\ttraining's ndcg@10: 1\ttraining's ndcg@20: 1\n",
            "[5]\ttraining's ndcg@5: 1\ttraining's ndcg@10: 1\ttraining's ndcg@20: 1\n",
            "[6]\ttraining's ndcg@5: 1\ttraining's ndcg@10: 1\ttraining's ndcg@20: 1\n",
            "[7]\ttraining's ndcg@5: 1\ttraining's ndcg@10: 1\ttraining's ndcg@20: 1\n",
            "[8]\ttraining's ndcg@5: 1\ttraining's ndcg@10: 1\ttraining's ndcg@20: 1\n",
            "[9]\ttraining's ndcg@5: 1\ttraining's ndcg@10: 1\ttraining's ndcg@20: 1\n",
            "[10]\ttraining's ndcg@5: 1\ttraining's ndcg@10: 1\ttraining's ndcg@20: 1\n",
            "[11]\ttraining's ndcg@5: 1\ttraining's ndcg@10: 1\ttraining's ndcg@20: 1\n",
            "[12]\ttraining's ndcg@5: 1\ttraining's ndcg@10: 1\ttraining's ndcg@20: 1\n",
            "[13]\ttraining's ndcg@5: 1\ttraining's ndcg@10: 1\ttraining's ndcg@20: 1\n",
            "[14]\ttraining's ndcg@5: 1\ttraining's ndcg@10: 1\ttraining's ndcg@20: 1\n",
            "[15]\ttraining's ndcg@5: 1\ttraining's ndcg@10: 1\ttraining's ndcg@20: 1\n",
            "[16]\ttraining's ndcg@5: 1\ttraining's ndcg@10: 1\ttraining's ndcg@20: 1\n",
            "[17]\ttraining's ndcg@5: 1\ttraining's ndcg@10: 1\ttraining's ndcg@20: 1\n",
            "[18]\ttraining's ndcg@5: 1\ttraining's ndcg@10: 1\ttraining's ndcg@20: 1\n",
            "[19]\ttraining's ndcg@5: 1\ttraining's ndcg@10: 1\ttraining's ndcg@20: 1\n",
            "[20]\ttraining's ndcg@5: 1\ttraining's ndcg@10: 1\ttraining's ndcg@20: 1\n",
            "[21]\ttraining's ndcg@5: 1\ttraining's ndcg@10: 1\ttraining's ndcg@20: 1\n",
            "[22]\ttraining's ndcg@5: 1\ttraining's ndcg@10: 1\ttraining's ndcg@20: 1\n",
            "[23]\ttraining's ndcg@5: 1\ttraining's ndcg@10: 1\ttraining's ndcg@20: 1\n",
            "[24]\ttraining's ndcg@5: 1\ttraining's ndcg@10: 1\ttraining's ndcg@20: 1\n",
            "[25]\ttraining's ndcg@5: 1\ttraining's ndcg@10: 1\ttraining's ndcg@20: 1\n",
            "[26]\ttraining's ndcg@5: 1\ttraining's ndcg@10: 1\ttraining's ndcg@20: 1\n",
            "[27]\ttraining's ndcg@5: 1\ttraining's ndcg@10: 1\ttraining's ndcg@20: 1\n",
            "[28]\ttraining's ndcg@5: 1\ttraining's ndcg@10: 1\ttraining's ndcg@20: 1\n",
            "[29]\ttraining's ndcg@5: 1\ttraining's ndcg@10: 1\ttraining's ndcg@20: 1\n",
            "[30]\ttraining's ndcg@5: 1\ttraining's ndcg@10: 1\ttraining's ndcg@20: 1\n",
            "[31]\ttraining's ndcg@5: 1\ttraining's ndcg@10: 1\ttraining's ndcg@20: 1\n",
            "[32]\ttraining's ndcg@5: 1\ttraining's ndcg@10: 1\ttraining's ndcg@20: 1\n",
            "[33]\ttraining's ndcg@5: 1\ttraining's ndcg@10: 1\ttraining's ndcg@20: 1\n",
            "[34]\ttraining's ndcg@5: 1\ttraining's ndcg@10: 1\ttraining's ndcg@20: 1\n",
            "[35]\ttraining's ndcg@5: 1\ttraining's ndcg@10: 1\ttraining's ndcg@20: 1\n",
            "[36]\ttraining's ndcg@5: 1\ttraining's ndcg@10: 1\ttraining's ndcg@20: 1\n",
            "[37]\ttraining's ndcg@5: 1\ttraining's ndcg@10: 1\ttraining's ndcg@20: 1\n",
            "[38]\ttraining's ndcg@5: 1\ttraining's ndcg@10: 1\ttraining's ndcg@20: 1\n",
            "[39]\ttraining's ndcg@5: 1\ttraining's ndcg@10: 1\ttraining's ndcg@20: 1\n",
            "[40]\ttraining's ndcg@5: 1\ttraining's ndcg@10: 1\ttraining's ndcg@20: 1\n",
            "[41]\ttraining's ndcg@5: 1\ttraining's ndcg@10: 1\ttraining's ndcg@20: 1\n",
            "[42]\ttraining's ndcg@5: 1\ttraining's ndcg@10: 1\ttraining's ndcg@20: 1\n",
            "[43]\ttraining's ndcg@5: 1\ttraining's ndcg@10: 1\ttraining's ndcg@20: 1\n",
            "[44]\ttraining's ndcg@5: 1\ttraining's ndcg@10: 1\ttraining's ndcg@20: 1\n",
            "[45]\ttraining's ndcg@5: 1\ttraining's ndcg@10: 1\ttraining's ndcg@20: 1\n",
            "[46]\ttraining's ndcg@5: 1\ttraining's ndcg@10: 1\ttraining's ndcg@20: 1\n",
            "[47]\ttraining's ndcg@5: 1\ttraining's ndcg@10: 1\ttraining's ndcg@20: 1\n",
            "[48]\ttraining's ndcg@5: 1\ttraining's ndcg@10: 1\ttraining's ndcg@20: 1\n",
            "[49]\ttraining's ndcg@5: 1\ttraining's ndcg@10: 1\ttraining's ndcg@20: 1\n",
            "[50]\ttraining's ndcg@5: 1\ttraining's ndcg@10: 1\ttraining's ndcg@20: 1\n",
            "[51]\ttraining's ndcg@5: 1\ttraining's ndcg@10: 1\ttraining's ndcg@20: 1\n",
            "[52]\ttraining's ndcg@5: 1\ttraining's ndcg@10: 1\ttraining's ndcg@20: 1\n",
            "[53]\ttraining's ndcg@5: 1\ttraining's ndcg@10: 1\ttraining's ndcg@20: 1\n",
            "[54]\ttraining's ndcg@5: 1\ttraining's ndcg@10: 1\ttraining's ndcg@20: 1\n",
            "[55]\ttraining's ndcg@5: 1\ttraining's ndcg@10: 1\ttraining's ndcg@20: 1\n",
            "[56]\ttraining's ndcg@5: 1\ttraining's ndcg@10: 1\ttraining's ndcg@20: 1\n",
            "[57]\ttraining's ndcg@5: 1\ttraining's ndcg@10: 1\ttraining's ndcg@20: 1\n",
            "[58]\ttraining's ndcg@5: 1\ttraining's ndcg@10: 1\ttraining's ndcg@20: 1\n",
            "[59]\ttraining's ndcg@5: 1\ttraining's ndcg@10: 1\ttraining's ndcg@20: 1\n",
            "[60]\ttraining's ndcg@5: 1\ttraining's ndcg@10: 1\ttraining's ndcg@20: 1\n",
            "[61]\ttraining's ndcg@5: 1\ttraining's ndcg@10: 1\ttraining's ndcg@20: 1\n",
            "[62]\ttraining's ndcg@5: 1\ttraining's ndcg@10: 1\ttraining's ndcg@20: 1\n",
            "[63]\ttraining's ndcg@5: 1\ttraining's ndcg@10: 1\ttraining's ndcg@20: 1\n",
            "[64]\ttraining's ndcg@5: 1\ttraining's ndcg@10: 1\ttraining's ndcg@20: 1\n",
            "[65]\ttraining's ndcg@5: 1\ttraining's ndcg@10: 1\ttraining's ndcg@20: 1\n",
            "[66]\ttraining's ndcg@5: 1\ttraining's ndcg@10: 1\ttraining's ndcg@20: 1\n",
            "[67]\ttraining's ndcg@5: 1\ttraining's ndcg@10: 1\ttraining's ndcg@20: 1\n",
            "[68]\ttraining's ndcg@5: 1\ttraining's ndcg@10: 1\ttraining's ndcg@20: 1\n",
            "[69]\ttraining's ndcg@5: 1\ttraining's ndcg@10: 1\ttraining's ndcg@20: 1\n",
            "[70]\ttraining's ndcg@5: 1\ttraining's ndcg@10: 1\ttraining's ndcg@20: 1\n",
            "[71]\ttraining's ndcg@5: 1\ttraining's ndcg@10: 1\ttraining's ndcg@20: 1\n",
            "[72]\ttraining's ndcg@5: 1\ttraining's ndcg@10: 1\ttraining's ndcg@20: 1\n",
            "[73]\ttraining's ndcg@5: 1\ttraining's ndcg@10: 1\ttraining's ndcg@20: 1\n",
            "[74]\ttraining's ndcg@5: 1\ttraining's ndcg@10: 1\ttraining's ndcg@20: 1\n",
            "[75]\ttraining's ndcg@5: 1\ttraining's ndcg@10: 1\ttraining's ndcg@20: 1\n",
            "[76]\ttraining's ndcg@5: 1\ttraining's ndcg@10: 1\ttraining's ndcg@20: 1\n",
            "[77]\ttraining's ndcg@5: 1\ttraining's ndcg@10: 1\ttraining's ndcg@20: 1\n",
            "[78]\ttraining's ndcg@5: 1\ttraining's ndcg@10: 1\ttraining's ndcg@20: 1\n",
            "[79]\ttraining's ndcg@5: 1\ttraining's ndcg@10: 1\ttraining's ndcg@20: 1\n",
            "[80]\ttraining's ndcg@5: 1\ttraining's ndcg@10: 1\ttraining's ndcg@20: 1\n",
            "[81]\ttraining's ndcg@5: 1\ttraining's ndcg@10: 1\ttraining's ndcg@20: 1\n",
            "[82]\ttraining's ndcg@5: 1\ttraining's ndcg@10: 1\ttraining's ndcg@20: 1\n",
            "[83]\ttraining's ndcg@5: 1\ttraining's ndcg@10: 1\ttraining's ndcg@20: 1\n",
            "[84]\ttraining's ndcg@5: 1\ttraining's ndcg@10: 1\ttraining's ndcg@20: 1\n",
            "[85]\ttraining's ndcg@5: 1\ttraining's ndcg@10: 1\ttraining's ndcg@20: 1\n",
            "[86]\ttraining's ndcg@5: 1\ttraining's ndcg@10: 1\ttraining's ndcg@20: 1\n",
            "[87]\ttraining's ndcg@5: 1\ttraining's ndcg@10: 1\ttraining's ndcg@20: 1\n",
            "[88]\ttraining's ndcg@5: 1\ttraining's ndcg@10: 1\ttraining's ndcg@20: 1\n",
            "[89]\ttraining's ndcg@5: 1\ttraining's ndcg@10: 1\ttraining's ndcg@20: 1\n",
            "[90]\ttraining's ndcg@5: 1\ttraining's ndcg@10: 1\ttraining's ndcg@20: 1\n",
            "[91]\ttraining's ndcg@5: 1\ttraining's ndcg@10: 1\ttraining's ndcg@20: 1\n",
            "[92]\ttraining's ndcg@5: 1\ttraining's ndcg@10: 1\ttraining's ndcg@20: 1\n",
            "[93]\ttraining's ndcg@5: 1\ttraining's ndcg@10: 1\ttraining's ndcg@20: 1\n",
            "[94]\ttraining's ndcg@5: 1\ttraining's ndcg@10: 1\ttraining's ndcg@20: 1\n",
            "[95]\ttraining's ndcg@5: 1\ttraining's ndcg@10: 1\ttraining's ndcg@20: 1\n",
            "[96]\ttraining's ndcg@5: 1\ttraining's ndcg@10: 1\ttraining's ndcg@20: 1\n",
            "[97]\ttraining's ndcg@5: 1\ttraining's ndcg@10: 1\ttraining's ndcg@20: 1\n",
            "[98]\ttraining's ndcg@5: 1\ttraining's ndcg@10: 1\ttraining's ndcg@20: 1\n",
            "[99]\ttraining's ndcg@5: 1\ttraining's ndcg@10: 1\ttraining's ndcg@20: 1\n",
            "[100]\ttraining's ndcg@5: 1\ttraining's ndcg@10: 1\ttraining's ndcg@20: 1\n"
          ]
        },
        {
          "output_type": "execute_result",
          "data": {
            "text/plain": [
              "LGBMRanker()"
            ],
            "text/html": [
              "<style>#sk-container-id-1 {color: black;background-color: white;}#sk-container-id-1 pre{padding: 0;}#sk-container-id-1 div.sk-toggleable {background-color: white;}#sk-container-id-1 label.sk-toggleable__label {cursor: pointer;display: block;width: 100%;margin-bottom: 0;padding: 0.3em;box-sizing: border-box;text-align: center;}#sk-container-id-1 label.sk-toggleable__label-arrow:before {content: \"▸\";float: left;margin-right: 0.25em;color: #696969;}#sk-container-id-1 label.sk-toggleable__label-arrow:hover:before {color: black;}#sk-container-id-1 div.sk-estimator:hover label.sk-toggleable__label-arrow:before {color: black;}#sk-container-id-1 div.sk-toggleable__content {max-height: 0;max-width: 0;overflow: hidden;text-align: left;background-color: #f0f8ff;}#sk-container-id-1 div.sk-toggleable__content pre {margin: 0.2em;color: black;border-radius: 0.25em;background-color: #f0f8ff;}#sk-container-id-1 input.sk-toggleable__control:checked~div.sk-toggleable__content {max-height: 200px;max-width: 100%;overflow: auto;}#sk-container-id-1 input.sk-toggleable__control:checked~label.sk-toggleable__label-arrow:before {content: \"▾\";}#sk-container-id-1 div.sk-estimator input.sk-toggleable__control:checked~label.sk-toggleable__label {background-color: #d4ebff;}#sk-container-id-1 div.sk-label input.sk-toggleable__control:checked~label.sk-toggleable__label {background-color: #d4ebff;}#sk-container-id-1 input.sk-hidden--visually {border: 0;clip: rect(1px 1px 1px 1px);clip: rect(1px, 1px, 1px, 1px);height: 1px;margin: -1px;overflow: hidden;padding: 0;position: absolute;width: 1px;}#sk-container-id-1 div.sk-estimator {font-family: monospace;background-color: #f0f8ff;border: 1px dotted black;border-radius: 0.25em;box-sizing: border-box;margin-bottom: 0.5em;}#sk-container-id-1 div.sk-estimator:hover {background-color: #d4ebff;}#sk-container-id-1 div.sk-parallel-item::after {content: \"\";width: 100%;border-bottom: 1px solid gray;flex-grow: 1;}#sk-container-id-1 div.sk-label:hover label.sk-toggleable__label {background-color: #d4ebff;}#sk-container-id-1 div.sk-serial::before {content: \"\";position: absolute;border-left: 1px solid gray;box-sizing: border-box;top: 0;bottom: 0;left: 50%;z-index: 0;}#sk-container-id-1 div.sk-serial {display: flex;flex-direction: column;align-items: center;background-color: white;padding-right: 0.2em;padding-left: 0.2em;position: relative;}#sk-container-id-1 div.sk-item {position: relative;z-index: 1;}#sk-container-id-1 div.sk-parallel {display: flex;align-items: stretch;justify-content: center;background-color: white;position: relative;}#sk-container-id-1 div.sk-item::before, #sk-container-id-1 div.sk-parallel-item::before {content: \"\";position: absolute;border-left: 1px solid gray;box-sizing: border-box;top: 0;bottom: 0;left: 50%;z-index: -1;}#sk-container-id-1 div.sk-parallel-item {display: flex;flex-direction: column;z-index: 1;position: relative;background-color: white;}#sk-container-id-1 div.sk-parallel-item:first-child::after {align-self: flex-end;width: 50%;}#sk-container-id-1 div.sk-parallel-item:last-child::after {align-self: flex-start;width: 50%;}#sk-container-id-1 div.sk-parallel-item:only-child::after {width: 0;}#sk-container-id-1 div.sk-dashed-wrapped {border: 1px dashed gray;margin: 0 0.4em 0.5em 0.4em;box-sizing: border-box;padding-bottom: 0.4em;background-color: white;}#sk-container-id-1 div.sk-label label {font-family: monospace;font-weight: bold;display: inline-block;line-height: 1.2em;}#sk-container-id-1 div.sk-label-container {text-align: center;}#sk-container-id-1 div.sk-container {/* jupyter's `normalize.less` sets `[hidden] { display: none; }` but bootstrap.min.css set `[hidden] { display: none !important; }` so we also need the `!important` here to be able to override the default hidden behavior on the sphinx rendered scikit-learn.org. See: https://github.com/scikit-learn/scikit-learn/issues/21755 */display: inline-block !important;position: relative;}#sk-container-id-1 div.sk-text-repr-fallback {display: none;}</style><div id=\"sk-container-id-1\" class=\"sk-top-container\"><div class=\"sk-text-repr-fallback\"><pre>LGBMRanker()</pre><b>In a Jupyter environment, please rerun this cell to show the HTML representation or trust the notebook. <br />On GitHub, the HTML representation is unable to render, please try loading this page with nbviewer.org.</b></div><div class=\"sk-container\" hidden><div class=\"sk-item\"><div class=\"sk-estimator sk-toggleable\"><input class=\"sk-toggleable__control sk-hidden--visually\" id=\"sk-estimator-id-1\" type=\"checkbox\" checked><label for=\"sk-estimator-id-1\" class=\"sk-toggleable__label sk-toggleable__label-arrow\">LGBMRanker</label><div class=\"sk-toggleable__content\"><pre>LGBMRanker()</pre></div></div></div></div></div>"
            ]
          },
          "metadata": {},
          "execution_count": 48
        }
      ],
      "source": [
        "gbm.fit(X_train, y_train, group=query_train,\n",
        "        eval_set=[(X_train, y_train)], eval_group=[query_val],\n",
        "        eval_at=[5, 10, 20], early_stopping_rounds=50)"
      ]
    },
    {
      "cell_type": "code",
      "source": [
        "test_pred = gbm.predict(X_test)"
      ],
      "metadata": {
        "id": "lshPUJ4wTq6_"
      },
      "execution_count": 49,
      "outputs": []
    },
    {
      "cell_type": "code",
      "source": [
        "print(test_pred)"
      ],
      "metadata": {
        "colab": {
          "base_uri": "https://localhost:8080/"
        },
        "id": "B5Krxhm0UdPj",
        "outputId": "93ea81d7-4e5d-4bea-b6c9-d9e7e7ed474e"
      },
      "execution_count": 50,
      "outputs": [
        {
          "output_type": "stream",
          "name": "stdout",
          "text": [
            "[ 0.2         0.2         0.2        -0.15849643 -0.15849643  0.2\n",
            "  0.2        -0.15849643  0.2         0.2         0.2        -0.15849643\n",
            "  0.2         0.2         0.2         0.2         0.2         0.2\n",
            " -0.15849643  0.2         0.2       ]\n"
          ]
        }
      ]
    },
    {
      "cell_type": "code",
      "source": [
        "X_test[\"predicted_ranking\"] = test_pred\n",
        "X_test.sort_values(\"predicted_ranking\", ascending=False)\n",
        "\n",
        "print(X_test[\"predicted_ranking\"])"
      ],
      "metadata": {
        "colab": {
          "base_uri": "https://localhost:8080/"
        },
        "id": "FAtOCypDUg9A",
        "outputId": "affe2707-2bb6-41e2-f395-05c0e45e891b"
      },
      "execution_count": 51,
      "outputs": [
        {
          "output_type": "stream",
          "name": "stdout",
          "text": [
            "36    0.200000\n",
            "81    0.200000\n",
            "77    0.200000\n",
            "47   -0.158496\n",
            "11   -0.158496\n",
            "14    0.200000\n",
            "39    0.200000\n",
            "85   -0.158496\n",
            "32    0.200000\n",
            "96    0.200000\n",
            "65    0.200000\n",
            "60   -0.158496\n",
            "0     0.200000\n",
            "29    0.200000\n",
            "42    0.200000\n",
            "73    0.200000\n",
            "51    0.200000\n",
            "38    0.200000\n",
            "26   -0.158496\n",
            "55    0.200000\n",
            "83    0.200000\n",
            "Name: predicted_ranking, dtype: float64\n"
          ]
        }
      ]
    },
    {
      "cell_type": "code",
      "source": [
        "print(X_test)"
      ],
      "metadata": {
        "colab": {
          "base_uri": "https://localhost:8080/"
        },
        "id": "6TubUb60JqGo",
        "outputId": "5e0f7a10-63ae-480a-8f09-a07381509abf"
      },
      "execution_count": 52,
      "outputs": [
        {
          "output_type": "stream",
          "name": "stdout",
          "text": [
            "    similarity2_BERT  similarity2_WV  Connection_Score  predicted_ranking\n",
            "36          0.531590        0.658947          0.120240           0.200000\n",
            "81          0.597476        0.482831          0.346693           0.200000\n",
            "77          0.592856        0.873759          1.000000           0.200000\n",
            "47          0.468544        0.339880          1.000000          -0.158496\n",
            "11          0.266692        0.134636          1.000000          -0.158496\n",
            "14          0.220571        0.540846          0.168337           0.200000\n",
            "39          0.843657        0.604845          1.000000           0.200000\n",
            "85          0.514142        0.158359          0.006012          -0.158496\n",
            "32          0.709421        0.550846          0.086172           0.200000\n",
            "96          0.709421        0.550846          0.140281           0.200000\n",
            "65          0.486818        0.487325          0.112224           0.200000\n",
            "60          0.537119        0.013756          1.000000          -0.158496\n",
            "0           0.220571        0.540846          0.168337           0.200000\n",
            "29          0.969809        0.667911          0.779559           0.200000\n",
            "42          0.345870        0.852381          1.000000           0.200000\n",
            "73          0.795009        0.663796          0.030060           0.200000\n",
            "51          0.531590        0.658947          0.120240           0.200000\n",
            "38          0.531590        0.658947          0.120240           0.200000\n",
            "26          0.458643        0.443738          1.000000          -0.158496\n",
            "55          0.345870        0.852381          1.000000           0.200000\n",
            "83          0.493467        0.595887          0.098196           0.200000\n"
          ]
        }
      ]
    }
  ],
  "metadata": {
    "colab": {
      "provenance": [],
      "toc_visible": true,
      "include_colab_link": true
    },
    "kernelspec": {
      "display_name": "Python 3 (ipykernel)",
      "language": "python",
      "name": "python3"
    },
    "language_info": {
      "codemirror_mode": {
        "name": "ipython",
        "version": 3
      },
      "file_extension": ".py",
      "mimetype": "text/x-python",
      "name": "python",
      "nbconvert_exporter": "python",
      "pygments_lexer": "ipython3",
      "version": "3.11.4"
    }
  },
  "nbformat": 4,
  "nbformat_minor": 0
}